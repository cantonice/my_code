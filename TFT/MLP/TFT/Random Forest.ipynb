{
 "cells": [
  {
   "cell_type": "code",
   "execution_count": 2,
   "id": "3659317d",
   "metadata": {},
   "outputs": [
    {
     "name": "stderr",
     "output_type": "stream",
     "text": [
      "E:\\Install\\Anaconda\\envs\\pytorch\\lib\\importlib\\_bootstrap.py:219: RuntimeWarning: numpy.ufunc size changed, may indicate binary incompatibility. Expected 192 from C header, got 216 from PyObject\n",
      "  return f(*args, **kwds)\n",
      "E:\\Install\\Anaconda\\envs\\pytorch\\lib\\importlib\\_bootstrap.py:219: RuntimeWarning: numpy.ufunc size changed, may indicate binary incompatibility. Expected 192 from C header, got 216 from PyObject\n",
      "  return f(*args, **kwds)\n",
      "E:\\Install\\Anaconda\\envs\\pytorch\\lib\\importlib\\_bootstrap.py:219: RuntimeWarning: numpy.ufunc size changed, may indicate binary incompatibility. Expected 192 from C header, got 216 from PyObject\n",
      "  return f(*args, **kwds)\n"
     ]
    }
   ],
   "source": [
    "from sklearn.ensemble import RandomForestRegressor\n",
    "from bayes_opt import BayesianOptimization\n",
    "from sklearn.metrics import r2_score\n",
    "import numpy\n",
    "import numpy as np\n",
    "import pandas as pd\n",
    "from sklearn.model_selection import train_test_split\n",
    "from sklearn.preprocessing import StandardScaler\n",
    "from sklearn import preprocessing\n",
    "import torch\n",
    "import torch.nn as nn\n",
    "import torch.nn.functional as F\n",
    "from torch.optim import Adam\n",
    "import torch.utils.data as Data\n",
    "import matplotlib.pyplot as plt\n",
    "\n",
    "data=pd.read_excel('C:/Users/XHM/Desktop/data/TFT/TFT_train.xlsx',engine='openpyxl')\n",
    "all_input=data[['Vdrain','Vgate','W/L']].values\n",
    "all_output=data['Idrain']\n",
    "minmax=preprocessing.MinMaxScaler()\n",
    "#all_output=minmax.fit_transform(data['Idrain'].values.reshape(-1,1))\n",
    "\n",
    "(x_train,x_test,y_train,y_test)=train_test_split(all_input,all_output,train_size=0.8,\n",
    "                                                 random_state=0)\n",
    "\n",
    "#标准化处理\n",
    "\n",
    "#x_train_s=minmax.fit_transform(x_train)\n",
    "#x_test_s=minmax.fit_transform(x_test)\n",
    "\n",
    "\n",
    "\n",
    "#数据类型处理\n",
    "train_xt=torch.from_numpy(x_train.astype(np.float32))\n",
    "train_yt=torch.from_numpy(y_train.values)\n",
    "test_xt=torch.from_numpy(x_test.astype(np.float32))\n",
    "test_yt=torch.from_numpy(y_test.values)\n",
    "#将数据处理为数据加载器\n",
    "train_data=Data.TensorDataset(train_xt,train_yt.float())\n",
    "test_data=Data.TensorDataset(test_xt,test_yt.float())\n",
    "\n",
    "train_loader=Data.DataLoader(dataset=train_data,batch_size=64,shuffle=True,num_workers=0)"
   ]
  },
  {
   "cell_type": "code",
   "execution_count": 4,
   "id": "fb2396f8",
   "metadata": {},
   "outputs": [
    {
     "data": {
      "text/plain": [
       "RandomForestRegressor(max_depth=7, max_features=0.9252, min_samples_split=4,\n",
       "                      n_estimators=62, random_state=2)"
      ]
     },
     "execution_count": 4,
     "metadata": {},
     "output_type": "execute_result"
    }
   ],
   "source": [
    "rfr=RandomForestRegressor(n_estimators=62,\n",
    "            min_samples_split=4,\n",
    "            max_features=0.9252, # float\n",
    "            max_depth=7,\n",
    "            random_state=2)\n",
    "rfr.fit(train_xt,train_yt)"
   ]
  },
  {
   "cell_type": "code",
   "execution_count": 10,
   "id": "9b25718f",
   "metadata": {},
   "outputs": [],
   "source": [
    "datapre=pd.read_excel('C:/Users/XHM/Desktop/data/TFT_pre.xlsx',engine='openpyxl')\n",
    "x_1=datapre[['Vdrain','Vgate','W/L']].values\n",
    "#数据类型处理\n",
    "train_1=torch.from_numpy(x_1.astype(np.float32))\n",
    "pre=rfr.predict(train_1)\n",
    "\n",
    "#pre=pre.detach().numpy()\n",
    "inputframe = pd.DataFrame(x_1,columns=['Vdrain','Vgate','W/L'])    #预测的输入\n",
    "yframe=pd.DataFrame({'Idrain_pre':pre})    #预测的y\n",
    "\n",
    "inputframe.to_csv('C:/Users/XHM/Desktop/data/TFT_rf_vd.csv',index=False,sep=',')\n",
    "yframe.to_csv(r'C:/Users/XHM/Desktop/data/TFT_rf_vd.csv',mode='a',sep=',')\n"
   ]
  }
 ],
 "metadata": {
  "kernelspec": {
   "display_name": "Python 3 (ipykernel)",
   "language": "python",
   "name": "python3"
  },
  "language_info": {
   "codemirror_mode": {
    "name": "ipython",
    "version": 3
   },
   "file_extension": ".py",
   "mimetype": "text/x-python",
   "name": "python",
   "nbconvert_exporter": "python",
   "pygments_lexer": "ipython3",
   "version": "3.7.11"
  },
  "toc": {
   "base_numbering": 1,
   "nav_menu": {},
   "number_sections": true,
   "sideBar": true,
   "skip_h1_title": false,
   "title_cell": "Table of Contents",
   "title_sidebar": "Contents",
   "toc_cell": false,
   "toc_position": {},
   "toc_section_display": true,
   "toc_window_display": false
  }
 },
 "nbformat": 4,
 "nbformat_minor": 5
}
