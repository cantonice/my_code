{
 "cells": [
  {
   "cell_type": "code",
   "execution_count": 1,
   "id": "023cc6ed",
   "metadata": {},
   "outputs": [
    {
     "name": "stdout",
     "output_type": "stream",
     "text": [
      "[7.76789725 6.90964793 1.93920457]\n"
     ]
    }
   ],
   "source": [
    "import numpy\n",
    "import numpy as np\n",
    "import pandas as pd\n",
    "from sklearn.model_selection import train_test_split\n",
    "from sklearn.preprocessing import StandardScaler\n",
    "from sklearn import preprocessing\n",
    "import torch\n",
    "import torch.nn as nn\n",
    "import torch.nn.functional as F\n",
    "from torch.optim import Adam\n",
    "import torch.utils.data as Data\n",
    "import matplotlib.pyplot as plt\n",
    "from sklearn.metrics import r2_score\n",
    "\n",
    "data=pd.read_excel('C:/Users/XHM/Desktop/data/TFT/trainlog.xlsx',engine='openpyxl')\n",
    "all_input=data[['Vg','Vd','W/L']].values\n",
    "all_output=data[['Id1','gm1','gd1']].values\n",
    "z=preprocessing.StandardScaler()\n",
    "#all_output=minmax.fit_transform(data['Idrain'].values.reshape(-1,1))\n",
    "\n",
    "(x_train,x_test,y_train,y_test)=train_test_split(all_input,all_output,train_size=0.8,\n",
    "                                                 random_state=0)\n",
    "a=np.std(x_train, axis = 0)\n",
    "print(a)\n",
    "#标准化处理\n",
    "x_train=z.fit_transform(x_train)\n",
    "x_test=z.transform(x_test)\n",
    "#z.inverse_transform\n",
    "\n",
    "\n",
    "\n",
    "#数据类型处理\n",
    "train_xt=torch.from_numpy(x_train.astype(np.float32))\n",
    "train_yt=torch.from_numpy(y_train.astype(np.float32))\n",
    "test_xt=torch.from_numpy(x_test.astype(np.float32))\n",
    "test_yt=torch.from_numpy(y_test.astype(np.float32))\n",
    "#将数据处理为数据加载器\n",
    "train_data=Data.TensorDataset(train_xt,train_yt.float())\n",
    "test_data=Data.TensorDataset(test_xt,test_yt.float())\n",
    "\n",
    "train_loader=Data.DataLoader(dataset=train_data,batch_size=32,shuffle=True,num_workers=0)\n",
    "test_loader=Data.DataLoader(dataset=test_data,batch_size=32,shuffle=False,num_workers=0)\n",
    "\n"
   ]
  },
  {
   "cell_type": "code",
   "execution_count": 2,
   "id": "e01d1050",
   "metadata": {},
   "outputs": [],
   "source": [
    "class MLPregression(nn.Module):\n",
    "    def __init__(self,p):\n",
    "        super(MLPregression,self).__init__()\n",
    "        self.p=torch.from_numpy(p)\n",
    "        self.p = self.p.to(torch.float32)\n",
    "        #self.p=p\n",
    "        self.activate=nn.Sigmoid()\n",
    "        #定义第一个隐藏层\n",
    "        self.input=nn.Linear(in_features=3,out_features=15,bias=True)\n",
    "        #定义第二个隐藏层\n",
    "        self.hidden2=nn.Linear(15,8)\n",
    "        #回归预测层\n",
    "        self.predict=nn.Linear(8,1)\n",
    "        #取出权重\n",
    "        self.input.weight.data=self.p[0:45].reshape((15,3))\n",
    "        self.input.bias.data=self.p[45:60].reshape((15,))\n",
    "        self.hidden2.weight.data=self.p[60:180].reshape((8,15))\n",
    "        self.hidden2.bias.data=self.p[180:188].reshape((8,))\n",
    "        self.predict.weight.data=self.p[188:196].reshape((1,8))\n",
    "        self.predict.bias.data=self.p[196:197]\n",
    "    def forward(self,x):\n",
    "        x=self.activate(self.input(x))\n",
    "        x=self.activate(self.hidden2(x))\n",
    "        output=self.predict(x)\n",
    "        return output[:,0]\n",
    "\n",
    "#mlpreg.load_state_dict(torch.load(\"C:/Users/XHM/LEVIST/DIST/mlp_init_nosgd.pth\"))\n",
    "def loss_function(id_pre,ids,g_pre,gm,gd):\n",
    "    loss_func=nn.MSELoss()\n",
    "    gm_pre=g_pre[:,0]\n",
    "    gd_pre=g_pre[:,1]\n",
    "    for i in range(len(gm)):\n",
    "        if gm[i]==0:\n",
    "            gm_pre[i]=0\n",
    "        elif gd[i]==0:\n",
    "            gd_pre[i]=0\n",
    "    j=0.9*(loss_func(id_pre,ids)+0.1*loss_func(gm_pre,gm)+0.1*loss_func(gd_pre,gd))\n",
    "    return j\n",
    "\n",
    "def fitness(x):\n",
    "    mlpreg=MLPregression(p=x) \n",
    "    train_loss_all=[]\n",
    "    for step,(b_x,b_y) in enumerate(train_loader):\n",
    "        output=mlpreg(b_x)\n",
    "        \n",
    "        b_x.requires_grad_(True)\n",
    "        y=mlpreg(b_x)\n",
    "        y.retain_grad()\n",
    "        b_x.grad\n",
    "        y.backward(torch.ones_like(y))\n",
    "        g_pre=b_x.grad\n",
    "        g_pre=g_pre*(1/a)\n",
    "       \n",
    "        loss=loss_function(output,b_y[:,0],g_pre,b_y[:,1],b_y[:,2])\n",
    "    return loss.item()"
   ]
  },
  {
   "cell_type": "code",
   "execution_count": 3,
   "id": "1d6ec998",
   "metadata": {},
   "outputs": [
    {
     "name": "stdout",
     "output_type": "stream",
     "text": [
      "best_x: [9.35926333 4.83468301 7.72148052 3.00795382 0.97866599 5.93558314\n",
      " 9.32589433 1.73882889 0.64723055 3.86207174 5.11071209 0.04002477\n",
      " 5.55582382 6.75799589 9.96215253 0.25217337 1.43318835 5.36496387\n",
      " 6.31581403 1.86781608 0.90424682 4.02226302 0.91443902 5.10701883\n",
      " 1.50417381 4.62476885 0.48379755 8.57290659 8.82377906 5.64346331\n",
      " 3.05107481 7.99785385 7.1900316  1.43295525 3.97631556 1.88716614\n",
      " 8.24019678 9.68458342 3.33869389 2.7439917  6.27817917 6.07394387\n",
      " 0.01708844 8.21769664 4.38561974 7.66239319 9.3729124  7.86994874\n",
      " 5.77592109 8.68884585 6.04962611 5.58688949 2.77775956 4.2892401\n",
      " 2.09259275 3.78196969 9.38797261 1.62251937 8.64945849 1.64512158\n",
      " 0.10220423 9.34746711 9.06384375 2.47521995 7.52374199 1.34267255\n",
      " 7.47802027 8.8183295  0.16593146 5.07870789 3.64022949 4.34089405\n",
      " 5.29914309 6.39176414 6.4293341  2.06769227 0.45622474 0.36242408\n",
      " 8.67477497 8.1715356  6.34506685 5.44173875 2.39480971 8.19432919\n",
      " 8.22440261 9.89558817 6.41576386 2.2858841  0.56556582 8.28145338\n",
      " 8.81016985 7.83786483 5.20144475 0.87009648 7.68401478 5.57776508\n",
      " 5.78526512 6.8870821  4.98818963 7.69896608 3.8326986  8.13433223\n",
      " 2.56566252 4.83857801 2.44399576 7.59972734 4.52523159 4.28113683\n",
      " 4.55179838 6.61802399 7.57614108 6.01974125 3.65241265 7.96920208\n",
      " 0.15488172 1.33066215 1.38133355 7.99131848 2.6116254  7.38664997\n",
      " 1.78788121 3.29399734 3.47120807 6.48760411 9.78350524 2.31675532\n",
      " 7.38435795 6.40682279 1.44229161 9.41686799 3.34301122 5.48233007\n",
      " 6.06547564 5.95382056 3.4655973  0.42652895 4.49744818 9.96411906\n",
      " 0.2181753  8.56281661 6.03876984 2.32260799 3.69635975 1.06661644\n",
      " 5.51533322 8.71769735 3.22281751 8.04752965 2.65556513 9.32348684\n",
      " 3.78387096 3.49187019 8.82183733 9.47059807 8.28896989 9.8597862\n",
      " 8.24975939 0.40469638 4.22801317 9.61732422 9.69784696 6.98581134\n",
      " 8.84041953 9.74570478 6.01671602 5.9706028  3.3080224  0.16028099\n",
      " 0.36790835 6.96527304 0.5042431  7.4785723  1.07599504 0.04680785\n",
      " 4.94078029 3.84916646 7.90730498 3.55819183 6.18273412 6.5999816\n",
      " 9.04774443 5.49525375 2.15289008 8.95892876 6.29772128 7.08880517\n",
      " 0.60722605 9.7922217  0.21500755 0.13871267 0.88342103 0.0280143\n",
      " 0.15947812 0.21731797 0.4114072  0.49884107 0.13666948] \n",
      " best_y: [19.12246415]\n"
     ]
    }
   ],
   "source": [
    "from sko.GA import GA\n",
    "ga = GA(func=fitness, n_dim=197, size_pop=200, max_iter=800, lb=[0.001]*197, ub=[10]*197, precision=1e-7)\n",
    "#ga.register(operator_name='selection', operator=selection_tournament, tourn_size=3)\n",
    "best_x, best_y = ga.run()\n",
    "print('best_x:', best_x, '\\n', 'best_y:', best_y)"
   ]
  },
  {
   "cell_type": "code",
   "execution_count": 6,
   "id": "9aea363b",
   "metadata": {},
   "outputs": [
    {
     "data": {
      "image/png": "[encoded data removed]",
      "text/plain": [
       "<Figure size 432x288 with 1 Axes>"
      ]
     },
     "metadata": {
      "needs_background": "light"
     },
     "output_type": "display_data"
    }
   ],
   "source": [
    "import pandas as pd\n",
    "import matplotlib.pyplot as plt\n",
    "\n",
    "torch.save(best_x,\"F:/TFT_FINAL/ga.best_x.pth\")\n",
    "Y_history = pd.DataFrame(ga.all_history_Y)\n",
    "Y_history.min(axis=1).cummin().plot(kind='line')\n",
    "plt.xlabel(\"cycles\")\n",
    "plt.xlim((0,100))\n",
    "plt.ylabel(\"fitness\")\n",
    "plt.show()"
   ]
  },
  {
   "cell_type": "markdown",
   "id": "62855762",
   "metadata": {},
   "source": [
    "## 遗传算法\n"
   ]
  },
  {
   "cell_type": "code",
   "execution_count": 7,
   "id": "c092e320",
   "metadata": {},
   "outputs": [],
   "source": [
    "g=torch.load(\"F:/TFT_FINAL/ga.best_x.pth\")   # 加载出这个参数\n",
    "g=torch.Tensor(g)\n",
    "t = g.to(torch.float32)\n",
    "#t=b\n",
    "class MLPregression(nn.Module):\n",
    "    def __init__(self):\n",
    "        super(MLPregression,self).__init__()\n",
    "        \n",
    "        self.activate=nn.Sigmoid()\n",
    "        #定义第一个隐藏层\n",
    "        self.input=nn.Linear(in_features=3,out_features=15,bias=True)\n",
    "        #定义第二个隐藏层\n",
    "        self.hidden2=nn.Linear(15,8)\n",
    "        #回归预测层\n",
    "        self.predict=nn.Linear(8,1)\n",
    "        #取出权重\n",
    "        self.input.weight.data=t[0:45].reshape((15,3))\n",
    "        self.input.bias.data=t[45:60].reshape((15,))\n",
    "        self.hidden2.weight.data=t[60:180].reshape((8,15))\n",
    "        self.hidden2.bias.data=t[180:188].reshape((8,))\n",
    "        self.predict.weight.data=t[188:196].reshape((1,8))\n",
    "        self.predict.bias.data=t[196:197]\n",
    "    def forward(self,x):\n",
    "        x=self.activate(self.input(x))\n",
    "        x=self.activate(self.hidden2(x))\n",
    "        output=self.predict(x)\n",
    "        return output[:,0]\n",
    "mlp=MLPregression()\n",
    "torch.save(mlp.state_dict(),\"F:/TFT_FINAL/ga02.pth\") "
   ]
  }
 ],
 "metadata": {
  "kernelspec": {
   "display_name": "Python 3 (ipykernel)",
   "language": "python",
   "name": "python3"
  },
  "language_info": {
   "codemirror_mode": {
    "name": "ipython",
    "version": 3
   },
   "file_extension": ".py",
   "mimetype": "text/x-python",
   "name": "python",
   "nbconvert_exporter": "python",
   "pygments_lexer": "ipython3",
   "version": "3.11.5"
  },
  "toc": {
   "base_numbering": 1,
   "nav_menu": {},
   "number_sections": true,
   "sideBar": true,
   "skip_h1_title": false,
   "title_cell": "Table of Contents",
   "title_sidebar": "Contents",
   "toc_cell": false,
   "toc_position": {},
   "toc_section_display": true,
   "toc_window_display": false
  }
 },
 "nbformat": 4,
 "nbformat_minor": 5
}
