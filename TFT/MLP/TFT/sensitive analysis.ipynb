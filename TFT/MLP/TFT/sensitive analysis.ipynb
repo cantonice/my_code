{
 "cells": [
  {
   "cell_type": "code",
   "execution_count": 5,
   "id": "094dbbd5",
   "metadata": {
    "scrolled": true
   },
   "outputs": [
    {
     "name": "stdout",
     "output_type": "stream",
     "text": [
      "[20.1 17.2  0.5]\n",
      "[8.77745222 6.79017906 1.95221757] [8.82794673 8.05460147 1.68144504] [ 1.2842056   1.34685675 -0.60518103]\n"
     ]
    }
   ],
   "source": [
    "import numpy\n",
    "import numpy as np\n",
    "import pandas as pd\n",
    "from sklearn.model_selection import train_test_split\n",
    "from sklearn.preprocessing import StandardScaler\n",
    "from sklearn import preprocessing\n",
    "import torch\n",
    "import torch.nn as nn\n",
    "import torch.nn.functional as F\n",
    "from torch.optim import Adam\n",
    "import torch.utils.data as Data\n",
    "import matplotlib.pyplot as plt\n",
    "from sklearn.metrics import r2_score\n",
    "\n",
    "data=pd.read_excel('C:/Users/XHM/Desktop/data/TFT/train.xlsx',engine='openpyxl')\n",
    "all_input=data[['Vg','Vd','W/L']].values\n",
    "all_output=data[['Id','gm','gd']].values\n",
    "z=preprocessing.StandardScaler()\n",
    "#all_output=minmax.fit_transform(data['Idrain'].values.reshape(-1,1))\n",
    "\n",
    "(x_train,x_test,y_train,y_test)=train_test_split(all_input,all_output,train_size=0.8,\n",
    "                                                 random_state=0)\n",
    "a=np.std(x_train,axis = 0)\n",
    "b=np.mean(x_train,axis=0)\n",
    "print(x_train[0,:])\n",
    "#标准化处理\n",
    "x_train=z.fit_transform(x_train)\n",
    "print(a,b,x_train[0,:])\n",
    "x_test=z.transform(x_test)\n",
    "#z.inverse_transform\n",
    "\n",
    "\n",
    "\n",
    "#数据类型处理\n",
    "train_xt=torch.from_numpy(x_train.astype(np.float32))\n",
    "train_yt=torch.from_numpy(y_train.astype(np.float32))\n",
    "test_xt=torch.from_numpy(x_test.astype(np.float32))\n",
    "test_yt=torch.from_numpy(y_test.astype(np.float32))\n",
    "#将数据处理为数据加载器\n",
    "train_data=Data.TensorDataset(train_xt,train_yt.float())\n",
    "test_data=Data.TensorDataset(test_xt,test_yt.float())\n",
    "\n",
    "train_loader=Data.DataLoader(dataset=train_data,batch_size=32,shuffle=True,num_workers=0)\n",
    "test_loader=Data.DataLoader(dataset=test_data,batch_size=32,shuffle=False,num_workers=0)\n",
    " "
   ]
  },
  {
   "cell_type": "code",
   "execution_count": 6,
   "id": "99102efe",
   "metadata": {
    "scrolled": true
   },
   "outputs": [
    {
     "name": "stdout",
     "output_type": "stream",
     "text": [
      "MLPregression(\n",
      "  (input): Linear(in_features=3, out_features=15, bias=True)\n",
      "  (act1): LogSigmoid()\n",
      "  (hidden2): Linear(in_features=15, out_features=8, bias=True)\n",
      "  (act2): LogSigmoid()\n",
      "  (predict): Linear(in_features=8, out_features=1, bias=True)\n",
      ")\n"
     ]
    }
   ],
   "source": [
    "15#搭建MLP回归模型\n",
    "class MLPregression(nn.Module):\n",
    "    def __init__(self):\n",
    "        super(MLPregression,self).__init__()\n",
    "        self.input=nn.Linear(in_features=3,out_features=15,bias=True)\n",
    "        self.act1=nn.LogSigmoid()\n",
    "        #定义第二个隐藏层\n",
    "        self.hidden2=nn.Linear(15,8)\n",
    "        self.act2=nn.LogSigmoid()\n",
    "        #回归预测层\n",
    "        self.predict=nn.Linear(8,1)\n",
    "        # self.activate=nn.LogSigmoid()\n",
    "    def forward(self,x):\n",
    "        x1=self.input(x)\n",
    "        a1=self.act1(x1)\n",
    "        x2=self.hidden2(a1)\n",
    "        a2=self.act2(x2)\n",
    "        output=self.predict(a2)\n",
    "        return output[:,0]\n",
    "mlp=MLPregression()\n",
    "print(mlp)\n",
    "\n",
    "def loss_function(id_pre,ids,g_pre,gm,gd):\n",
    "    loss_func=nn.MSELoss()\n",
    "    gm_pre=g_pre[:,0]\n",
    "    gd_pre=g_pre[:,1]\n",
    "    for i in range(len(gm)):\n",
    "        if gm[i]==0:\n",
    "            gm_pre[i]=0\n",
    "        elif gd[i]==0:\n",
    "            gd_pre[i]=0\n",
    "    j=(0.9*loss_func(id_pre,ids)+0.1*loss_func(gm_pre,gm)+0.1*loss_func(gd_pre,gd))\n",
    "    return j"
   ]
  },
  {
   "cell_type": "code",
   "execution_count": 7,
   "id": "0b7bae72",
   "metadata": {},
   "outputs": [
    {
     "name": "stdout",
     "output_type": "stream",
     "text": [
      "epoch:0 loss:3164.507075804226\n",
      "epoch:50 loss:157.2701944718047\n",
      "epoch:100 loss:72.34151830923106\n",
      "epoch:150 loss:63.78043151120858\n",
      "epoch:200 loss:57.226372877213564\n",
      "epoch:250 loss:51.94386781168231\n",
      "epoch:300 loss:45.75213823476211\n",
      "epoch:350 loss:14.839076821440873\n",
      "epoch:400 loss:6.439643506314826\n",
      "epoch:450 loss:4.7459033707742\n",
      "epoch:500 loss:3.6273329364260407\n",
      "epoch:550 loss:3.073273673503143\n",
      "epoch:600 loss:2.7203664341888145\n",
      "epoch:650 loss:2.45979864704293\n",
      "epoch:700 loss:2.2778635849223656\n",
      "epoch:750 loss:2.069359728524392\n",
      "epoch:800 loss:1.9651462293325992\n",
      "epoch:850 loss:1.8638779164840595\n",
      "epoch:900 loss:1.7904571891843475\n",
      "epoch:950 loss:1.7441734572937466\n",
      "epoch:1000 loss:1.68556299507614\n",
      "epoch:1050 loss:1.6867601061542346\n",
      "epoch:1100 loss:1.5845072423476374\n",
      "epoch:1150 loss:1.4671009139527893\n",
      "epoch:1200 loss:1.494835171201837\n",
      "epoch:1250 loss:1.4714354812674826\n",
      "epoch:1300 loss:1.4042718941957701\n",
      "epoch:1350 loss:1.3932605682851833\n",
      "epoch:1400 loss:1.4088944551742097\n",
      "epoch:1450 loss:1.42044337481874\n",
      "epoch:1500 loss:1.3310988560891397\n",
      "epoch:1550 loss:1.3471299626117452\n",
      "epoch:1600 loss:1.3034091748776349\n",
      "epoch:1650 loss:1.3193433162540122\n",
      "epoch:1700 loss:1.2993272480700355\n",
      "epoch:1750 loss:1.2874705018715313\n",
      "epoch:1800 loss:1.2910160563229158\n",
      "epoch:1850 loss:1.2640554735065794\n",
      "epoch:1900 loss:1.246768361361516\n",
      "epoch:1950 loss:1.2839042838921333\n",
      "epoch:2000 loss:1.2126541142826008\n",
      "epoch:2050 loss:1.2464963205430808\n",
      "epoch:2100 loss:1.2065630288790592\n",
      "epoch:2150 loss:1.189494955644796\n",
      "epoch:2200 loss:1.1784424156453466\n",
      "epoch:2250 loss:1.1800135911514522\n",
      "epoch:2300 loss:1.1863859165685013\n",
      "epoch:2350 loss:1.1972350726266245\n",
      "epoch:2400 loss:1.166220737527925\n",
      "epoch:2450 loss:1.1576265273397097\n",
      "epoch:2500 loss:1.1756695990559045\n",
      "epoch:2550 loss:1.1838708280175525\n",
      "epoch:2600 loss:1.1521344440271235\n",
      "epoch:2650 loss:1.1474172784576429\n",
      "epoch:2700 loss:1.190507860667106\n",
      "epoch:2750 loss:1.1541014915710566\n",
      "epoch:2800 loss:1.163435357508055\n",
      "epoch:2850 loss:1.1599590900446863\n",
      "epoch:2900 loss:1.1532564257497462\n",
      "epoch:2950 loss:1.1493539190026436\n",
      "epoch:3000 loss:1.154266341968713\n",
      "epoch:3050 loss:1.1538385209114206\n",
      "epoch:3100 loss:1.1309503402408938\n",
      "epoch:3150 loss:1.1485213973071675\n",
      "epoch:3200 loss:1.12687524323474\n",
      "epoch:3250 loss:1.1316531972231871\n",
      "epoch:3300 loss:1.136888447296118\n",
      "epoch:3350 loss:1.171948530862946\n",
      "epoch:3400 loss:1.1603016180567964\n",
      "epoch:3450 loss:1.1535549534278366\n",
      "epoch:3500 loss:1.1359444820768474\n",
      "epoch:3550 loss:1.118508316261665\n",
      "epoch:3600 loss:1.1256683912951768\n",
      "epoch:3650 loss:1.1117227759608503\n",
      "epoch:3700 loss:1.1442912494889506\n",
      "epoch:3750 loss:1.125275617320567\n",
      "epoch:3800 loss:1.1627506924118314\n",
      "epoch:3850 loss:1.1451490037063952\n",
      "epoch:3900 loss:1.103997919966761\n",
      "epoch:3950 loss:1.1393015268494826\n",
      "epoch:4000 loss:1.1474046032697256\n",
      "epoch:4050 loss:1.1108801606776724\n",
      "epoch:4100 loss:1.100916144876783\n",
      "epoch:4150 loss:1.147016268783658\n",
      "epoch:4200 loss:1.11466771479394\n",
      "epoch:4250 loss:1.1489085306455105\n",
      "epoch:4300 loss:1.117529270732626\n",
      "epoch:4350 loss:1.1527570724310794\n",
      "epoch:4400 loss:1.121059055843572\n",
      "epoch:4450 loss:1.1226734241303413\n",
      "epoch:4500 loss:1.0952544459631541\n",
      "epoch:4550 loss:1.1264919765206287\n",
      "epoch:4600 loss:1.1497935318922547\n",
      "epoch:4650 loss:1.1248101648021913\n",
      "epoch:4700 loss:1.130241683387824\n",
      "epoch:4750 loss:1.1065415195082229\n",
      "epoch:4800 loss:1.1372775666891692\n",
      "epoch:4850 loss:1.1087424534962877\n",
      "epoch:4900 loss:1.1046326823887314\n",
      "epoch:4950 loss:1.1049227626026874\n"
     ]
    },
    {
     "data": {
      "image/png": "[encoded data removed]",
      "text/plain": [
       "<Figure size 720x432 with 1 Axes>"
      ]
     },
     "metadata": {
      "needs_background": "light"
     },
     "output_type": "display_data"
    },
    {
     "name": "stdout",
     "output_type": "stream",
     "text": [
      "[('input', Linear(in_features=3, out_features=15, bias=True)), ('act1', LogSigmoid()), ('hidden2', Linear(in_features=15, out_features=8, bias=True)), ('act2', LogSigmoid()), ('predict', Linear(in_features=8, out_features=1, bias=True))]\n",
      "tensor([-0.4242,  0.3192,  0.2266,  ...,  8.6402,  2.5606, 17.5249],\n",
      "       grad_fn=<SelectBackward>)\n",
      "tensor([[-1.5290e-05,  7.5250e-05,  0.0000e+00],\n",
      "        [ 1.4500e-01,  0.0000e+00,  3.6000e-03],\n",
      "        [-1.3060e-05,  1.2550e-05,  0.0000e+00],\n",
      "        ...,\n",
      "        [ 8.2974e+00,  1.8240e+00,  0.0000e+00],\n",
      "        [ 2.4059e+00,  5.8900e-01,  0.0000e+00],\n",
      "        [ 1.7150e+01,  2.2700e+00,  0.0000e+00]])\n"
     ]
    }
   ],
   "source": [
    "#定义优化器\n",
    "optimizer=torch.optim.Adam(mlp.parameters(),lr=0.001)\n",
    "#scheduler = torch.optim.lr_scheduler.StepLR(optimizer, step_size=50, gamma=0.1, last_epoch=-1)\n",
    "lr_list_1 = []\n",
    "loss_func=nn.MSELoss()\n",
    "train_loss_all=[]\n",
    "for epoch in range(5000):\n",
    "    train_loss=0\n",
    "    train_num=0\n",
    "    for step,(b_x,b_y) in enumerate(train_loader):\n",
    "        output=mlp(b_x)\n",
    "        \n",
    "        b_x.requires_grad_(True)\n",
    "        y=mlp(b_x)\n",
    "        y.retain_grad()\n",
    "        b_x.grad\n",
    "        y.backward(torch.ones_like(y))\n",
    "        g_p=b_x.grad\n",
    "        g_pre=g_p*1/a\n",
    "        \n",
    "        #loss=loss_func(output,b_y[:,0])\n",
    "        loss=loss_function(output,b_y[:,0],g_pre,b_y[:,1],b_y[:,2])\n",
    "        optimizer.zero_grad()\n",
    "        loss.backward()\n",
    "        optimizer.step()\n",
    "        #scheduler.step()\n",
    "        #lr_list_1.append(optimizer_Adam.state_dict()['param_groups'][0]['lr'])\n",
    "        train_loss+=loss.item()*b_x.size(0)\n",
    "        train_num+=b_x.size(0)\n",
    "    train_loss_all.append(train_loss/train_num)\n",
    "    \n",
    "    \n",
    "    \n",
    "    \n",
    "    if epoch%50==0:\n",
    "        print('epoch:{}'.format(epoch),'loss:{}'.format(train_loss/train_num))\n",
    "\n",
    "plt.figure(figsize=(10,6))\n",
    "plt.plot(train_loss_all,\"ro-\",label=\"Train loss\")\n",
    "plt.legend()\n",
    "plt.grid()\n",
    "plt.xlabel(\"epoch\")\n",
    "plt.ylabel(\"loss\")\n",
    "plt.show()\n",
    "\n",
    "#预测\n",
    "\n",
    "pre_y=mlp(test_xt)\n",
    "print(list(mlp.named_children()))\n",
    "#torch.save(mlpreg,'C:/Users/XHM/Desktop/MLP/mlp_model.pth')\n",
    "\n",
    "\n",
    "\n",
    "#pre_y=mm.inverse_transform(pre_y.data.reshape(-1,1))\n",
    "print(pre_y)\n",
    "print(test_yt)\n"
   ]
  },
  {
   "cell_type": "code",
   "execution_count": 8,
   "id": "9d6cdf28",
   "metadata": {},
   "outputs": [
    {
     "name": "stdout",
     "output_type": "stream",
     "text": [
      "[('input', Linear(in_features=3, out_features=15, bias=True)), ('act1', LogSigmoid()), ('hidden2', Linear(in_features=15, out_features=8, bias=True)), ('act2', LogSigmoid()), ('predict', Linear(in_features=8, out_features=1, bias=True))]\n",
      "tensor([30.3743,  5.6945,  0.1759,  ..., -0.0599,  7.1247, -0.0602],\n",
      "       grad_fn=<SelectBackward>)\n"
     ]
    }
   ],
   "source": [
    "import torchvision\n",
    "name=list(mlp.named_children()) #获取模型每一层的name\n",
    "print(name)\n",
    "'''for layer1 in iter(name):\n",
    "    print(layer1)\n",
    "    level1=getattr(mlp,layer1[0])\n",
    "    backbone=torchvision.models._utils.IntermediateLayerGetter(level1,{\"\":layer1[0]})\n",
    "    backbone.eval()\n",
    "    out1=backbone(test_xt)'''\n",
    "\n",
    "l1=torchvision.models._utils.IntermediateLayerGetter(mlp,{'act1':'a1'})\n",
    "l2=torchvision.models._utils.IntermediateLayerGetter(mlp,{'act2':'a2'})\n",
    "l3=torchvision.models._utils.IntermediateLayerGetter(mlp,{'predict':'output'})\n",
    "\n",
    "out1=l1(train_xt)\n",
    "out1=out1[\"a1\"]\n",
    "out2=l2(train_xt)\n",
    "out2=out2['a2']\n",
    "out3=l3(train_xt)\n",
    "out3=out3['output']\n",
    "\n",
    "df1=pd.DataFrame(out1.detach().numpy())\n",
    "df2=pd.DataFrame(out2.detach().numpy())\n",
    "df3=pd.DataFrame(out3.detach().numpy())\n",
    "\n",
    "df1.to_csv('C:/Users/XHM/Desktop/data/weight/activate/vg-sub-x1.csv',index=False,sep=',')\n",
    "df2.to_csv('C:/Users/XHM/Desktop/data/weight/activate/vg-sub-x2.csv',index=False,sep=',')\n",
    "df3.to_csv('C:/Users/XHM/Desktop/data/weight/activate/vg-sub-out.csv',index=False,sep=',')\n",
    "\n",
    "print(mlp(train_xt))\n"
   ]
  },
  {
   "cell_type": "code",
   "execution_count": 152,
   "id": "2b661a65",
   "metadata": {},
   "outputs": [],
   "source": [
    "def neural(x):\n",
    "    l1=torchvision.models._utils.IntermediateLayerGetter(mlp,{'act1':'a1'})\n",
    "    out1=l1(x)\n",
    "    out1=out1['a1']\n",
    "    a=out1[:,0].data\n",
    "    return a\n"
   ]
  },
  {
   "cell_type": "code",
   "execution_count": 153,
   "id": "61c96d24",
   "metadata": {},
   "outputs": [],
   "source": [
    "from SALib.sample import saltelli\n",
    "from SALib.analyze import sobol\n",
    "import numpy as np\n",
    "import math"
   ]
  },
  {
   "cell_type": "code",
   "execution_count": 154,
   "id": "63f76d95",
   "metadata": {
    "scrolled": true
   },
   "outputs": [
    {
     "name": "stderr",
     "output_type": "stream",
     "text": [
      "E:\\Install\\Anaconda\\envs\\pytorch\\lib\\site-packages\\SALib\\sample\\saltelli.py:94: UserWarning: \n",
      "        Convergence properties of the Sobol' sequence is only valid if\n",
      "        `N` (1000) is equal to `2^n`.\n",
      "        \n",
      "  warnings.warn(msg)\n"
     ]
    },
    {
     "name": "stdout",
     "output_type": "stream",
     "text": [
      "torch.Size([8000, 3]) (8000,)\n",
      "           ST   ST_conf\n",
      "Vg   0.915132  0.064796\n",
      "Vd   0.057338  0.004635\n",
      "W/L  0.026201  0.002346\n",
      "           S1   S1_conf\n",
      "Vg   0.913081  0.074941\n",
      "Vd   0.056617  0.020584\n",
      "W/L  0.027248  0.012519\n",
      "                 S2   S2_conf\n",
      "(Vg, Vd)   0.004057  0.095404\n",
      "(Vg, W/L)  0.002247  0.093153\n",
      "(Vd, W/L) -0.000379  0.028647\n",
      "\n",
      "S1: [0.9130807  0.05661731 0.02724784]\n",
      "x1-x2: 0.004056970457136606\n",
      "x1-x3: 0.002246711279721675\n",
      "x2-x3: -0.00037851250521338947\n"
     ]
    },
    {
     "data": {
      "image/png": "[encoded data removed]",
      "text/plain": [
       "<Figure size 432x288 with 1 Axes>"
      ]
     },
     "metadata": {
      "needs_background": "light"
     },
     "output_type": "display_data"
    }
   ],
   "source": [
    "problem = {\n",
    "    'num_vars': 3,\n",
    "    'names': ['Vg', 'Vd', 'W/L'],\n",
    "    'bounds': [[0,10],\n",
    "               [0,10],\n",
    "               [0, 10]]\n",
    "}\n",
    "\n",
    "param_values = saltelli.sample(problem, 1000)\n",
    "param_values=torch.from_numpy(param_values.astype(np.float32))\n",
    "\n",
    "# Run model (example)\n",
    "Y = neural(param_values)\n",
    "Y=Y.detach().numpy()\n",
    "print(param_values.shape, Y.shape)\n",
    "# Perform analysis (这里运行完成后会自动对结果进行展示)\n",
    "Si = sobol.analyze(problem, Y, print_to_console=True)\n",
    "print()\n",
    "\n",
    "# Print the first-order sensitivity indices  一阶灵敏度\n",
    "print('S1:', Si['S1'])\n",
    "\n",
    "# Print the second-order sensitivity indices   二阶灵敏度\n",
    "print(\"x1-x2:\", Si['S2'][0, 1])\n",
    "print(\"x1-x3:\", Si['S2'][0, 2])\n",
    "print(\"x2-x3:\", Si['S2'][1, 2])\n",
    "\n",
    "\n",
    "\n",
    "from SALib.plotting.bar import plot as barplot\n",
    "import matplotlib.pyplot as plot\n",
    "\n",
    "Si_df = Si.to_df()\n",
    "barplot(Si_df[0])\n",
    "plt.tick_params(labelsize=20)\n",
    "plt.savefig('大1.jpg',dpi=600,format='jpg')\n",
    "plot.show()"
   ]
  },
  {
   "cell_type": "code",
   "execution_count": 3,
   "id": "44c166bb",
   "metadata": {},
   "outputs": [
    {
     "data": {
      "image/png": "[encoded data removed]",
      "text/plain": [
       "<Figure size 432x288 with 1 Axes>"
      ]
     },
     "metadata": {
      "needs_background": "light"
     },
     "output_type": "display_data"
    }
   ],
   "source": [
    "import numpy as np\n",
    "import matplotlib.pyplot as plt\n",
    "\n",
    "t = np.arange(0, 69, 1)\n",
    "plt.plot(t, t, 'r', t, t**2, 'b')\n",
    "label = ['t', 't**2']\n",
    "plt.legend(label, loc='upper left')\n",
    "plt.tick_params(labelsize=20)\n",
    "plt.show()\n"
   ]
  }
 ],
 "metadata": {
  "kernelspec": {
   "display_name": "Python 3 (ipykernel)",
   "language": "python",
   "name": "python3"
  },
  "language_info": {
   "codemirror_mode": {
    "name": "ipython",
    "version": 3
   },
   "file_extension": ".py",
   "mimetype": "text/x-python",
   "name": "python",
   "nbconvert_exporter": "python",
   "pygments_lexer": "ipython3",
   "version": "3.7.16"
  },
  "toc": {
   "base_numbering": 1,
   "nav_menu": {},
   "number_sections": true,
   "sideBar": true,
   "skip_h1_title": false,
   "title_cell": "Table of Contents",
   "title_sidebar": "Contents",
   "toc_cell": false,
   "toc_position": {},
   "toc_section_display": true,
   "toc_window_display": false
  }
 },
 "nbformat": 4,
 "nbformat_minor": 5
}
