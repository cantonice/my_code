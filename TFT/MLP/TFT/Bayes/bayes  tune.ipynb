{
 "cells": [
  {
   "cell_type": "code",
   "execution_count": 22,
   "id": "9cc76bbd",
   "metadata": {},
   "outputs": [],
   "source": [
    "import numpy\n",
    "import numpy as np\n",
    "import pandas as pd\n",
    "from sklearn.model_selection import train_test_split\n",
    "from sklearn.preprocessing import StandardScaler\n",
    "from sklearn import preprocessing\n",
    "import torch\n",
    "import torch.nn as nn\n",
    "import torch.nn.functional as F\n",
    "from torch.optim import Adam\n",
    "import torch.utils.data as Data\n",
    "import matplotlib.pyplot as plt\n",
    "from sklearn.neural_network import MLPRegressor\n",
    "\n",
    "data=pd.read_excel('C:/Users/XHM/Desktop/data/TFT/TFT_train.xlsx',engine='openpyxl')\n",
    "all_input=data[['Vdrain','Vgate','W/L']].values\n",
    "all_output=data['Idrain']\n",
    "minmax=preprocessing.MinMaxScaler()\n",
    "#all_output=minmax.fit_transform(data['Idrain'].values.reshape(-1,1))\n",
    "\n",
    "(x_train,x_test,y_train,y_test)=train_test_split(all_input,all_output,train_size=0.8,\n",
    "                                                 random_state=0)\n",
    "\n",
    "\n",
    "#数据类型处理\n",
    "train_xt=torch.from_numpy(x_train.astype(np.float32))\n",
    "train_yt=torch.from_numpy(y_train.values)\n",
    "test_xt=torch.from_numpy(x_test.astype(np.float32))\n",
    "test_yt=torch.from_numpy(y_test.values)\n",
    "#将数据处理为数据加载器\n",
    "train_data=Data.TensorDataset(train_xt,train_yt.float())\n",
    "test_data=Data.TensorDataset(test_xt,test_yt.float())\n",
    "\n",
    "train_loader=Data.DataLoader(dataset=train_data,batch_size=64,shuffle=True,num_workers=0)"
   ]
  },
  {
   "cell_type": "markdown",
   "id": "8af5e5ea",
   "metadata": {},
   "source": [
    "## 网格搜索"
   ]
  },
  {
   "cell_type": "code",
   "execution_count": 23,
   "id": "e981819c",
   "metadata": {},
   "outputs": [
    {
     "name": "stdout",
     "output_type": "stream",
     "text": [
      "MLPRegressor()\n",
      "0.9311243025292835\n"
     ]
    }
   ],
   "source": [
    "def train():\n",
    "    mlp = MLPRegressor()\n",
    "    # 查看默认超参\n",
    "    print(mlp)\n",
    "    # 训练模型\n",
    "    mlp.fit(train_xt, train_yt)\n",
    "    print(mlp.score(train_xt, train_yt)) \n",
    "train()"
   ]
  },
  {
   "cell_type": "code",
   "execution_count": null,
   "id": "6b1d475d",
   "metadata": {},
   "outputs": [],
   "source": [
    "from sklearn.neural_network import MLPRegressor\n",
    "import numpy as np\n",
    "import pickle\n",
    "import gzip\n",
    "import matplotlib.pyplot as plt\n",
    "from sklearn.model_selection import GridSearchCV\n",
    "\n",
    "mlp_clf__tuned_parameters = {\"hidden_layer_sizes\": [(100,), (100, 30),(100,50,20)],\n",
    "                             \"solver\": ['adam', 'sgd', 'lbfgs'],\n",
    "                             \"max_iter\": [20],\n",
    "                             \"verbose\": [True]\n",
    "                             }\n",
    "mlp = MLPRegressor()\n",
    "estimator = GridSearchCV(mlp, mlp_clf__tuned_parameters, n_jobs=6)\n",
    "estimator.fit(train_xt, train_yt)"
   ]
  },
  {
   "cell_type": "markdown",
   "id": "5e4d8e3c",
   "metadata": {},
   "source": [
    "## lazy搜索"
   ]
  },
  {
   "cell_type": "code",
   "execution_count": 7,
   "id": "27e18177",
   "metadata": {
    "scrolled": true
   },
   "outputs": [
    {
     "name": "stderr",
     "output_type": "stream",
     "text": [
      " 21%|█████████████████▊                                                                 | 9/42 [00:01<00:03,  8.44it/s]"
     ]
    },
    {
     "name": "stdout",
     "output_type": "stream",
     "text": [
      "GammaRegressor model failed to execute\n",
      "Some value(s) of y are out of the valid range for family GammaDistribution\n"
     ]
    },
    {
     "name": "stderr",
     "output_type": "stream",
     "text": [
      " 69%|████████████████████████████████████████████████████████▌                         | 29/42 [00:08<00:04,  2.76it/s]"
     ]
    },
    {
     "name": "stdout",
     "output_type": "stream",
     "text": [
      "PoissonRegressor model failed to execute\n",
      "Some value(s) of y are out of the valid range for family PoissonDistribution\n"
     ]
    },
    {
     "name": "stderr",
     "output_type": "stream",
     "text": [
      "100%|██████████████████████████████████████████████████████████████████████████████████| 42/42 [00:10<00:00,  4.09it/s]"
     ]
    },
    {
     "name": "stdout",
     "output_type": "stream",
     "text": [
      "                               Adjusted R-Squared  R-Squared  RMSE  Time Taken\n",
      "Model                                                                         \n",
      "GaussianProcessRegressor                     1.00       1.00  0.01        2.15\n",
      "ExtraTreesRegressor                          1.00       1.00  0.12        0.41\n",
      "KNeighborsRegressor                          1.00       1.00  0.46        0.04\n",
      "RandomForestRegressor                        1.00       1.00  0.52        0.43\n",
      "BaggingRegressor                             1.00       1.00  0.55        0.07\n",
      "DecisionTreeRegressor                        1.00       1.00  0.66        0.01\n",
      "ExtraTreeRegressor                           1.00       1.00  0.73        0.01\n",
      "HistGradientBoostingRegressor                1.00       1.00  1.32        0.42\n",
      "XGBRegressor                                 1.00       1.00  1.32        0.15\n",
      "LGBMRegressor                                1.00       1.00  1.32        0.08\n",
      "GradientBoostingRegressor                    1.00       1.00  4.97        0.13\n",
      "MLPRegressor                                 0.98       0.98 10.50        3.40\n",
      "AdaBoostRegressor                            0.95       0.95 17.12        0.28\n",
      "NuSVR                                        0.86       0.86 27.59        0.49\n",
      "SVR                                          0.86       0.86 27.64        0.53\n",
      "Lasso                                        0.52       0.52 51.73        0.01\n",
      "ElasticNetCV                                 0.52       0.52 51.73        0.08\n",
      "LassoCV                                      0.52       0.52 51.76        0.05\n",
      "BayesianRidge                                0.52       0.52 51.76        0.11\n",
      "RidgeCV                                      0.52       0.52 51.76        0.01\n",
      "Ridge                                        0.52       0.52 51.76        0.01\n",
      "LarsCV                                       0.52       0.52 51.76        0.01\n",
      "LassoLarsCV                                  0.52       0.52 51.76        0.01\n",
      "LinearRegression                             0.52       0.52 51.76        0.01\n",
      "TransformedTargetRegressor                   0.52       0.52 51.76        0.01\n",
      "OrthogonalMatchingPursuitCV                  0.52       0.52 51.76        0.01\n",
      "Lars                                         0.52       0.52 51.76        0.05\n",
      "LassoLarsIC                                  0.52       0.52 51.76        0.01\n",
      "SGDRegressor                                 0.51       0.51 51.86        0.01\n",
      "ElasticNet                                   0.46       0.46 54.51        0.06\n",
      "TweedieRegressor                             0.39       0.40 57.83        0.01\n",
      "GeneralizedLinearRegressor                   0.39       0.40 57.83        0.01\n",
      "HuberRegressor                               0.36       0.36 59.55        0.02\n",
      "LinearSVR                                    0.33       0.33 60.83        0.02\n",
      "KernelRidge                                  0.30       0.31 62.02        1.06\n",
      "PassiveAggressiveRegressor                   0.29       0.30 62.42        0.01\n",
      "OrthogonalMatchingPursuit                    0.29       0.30 62.47        0.01\n",
      "DummyRegressor                              -0.00      -0.00 74.43        0.01\n",
      "LassoLars                                   -0.00      -0.00 74.43        0.01\n",
      "RANSACRegressor                             -0.11      -0.11 78.44        0.02\n"
     ]
    },
    {
     "name": "stderr",
     "output_type": "stream",
     "text": [
      "\n"
     ]
    }
   ],
   "source": [
    "from lazypredict.Supervised import LazyRegressor\n",
    "from sklearn import datasets\n",
    "from sklearn.utils import shuffle\n",
    "import numpy as np\n",
    "\n",
    "reg = LazyRegressor(verbose=0, ignore_warnings=False, custom_metric=None)\n",
    "models, predictions = reg.fit(x_train,x_test, y_train, y_test)\n",
    "\n",
    "print(models)"
   ]
  },
  {
   "cell_type": "markdown",
   "id": "8453c0fe",
   "metadata": {},
   "source": [
    "## 贝叶斯应用于随机森林"
   ]
  },
  {
   "cell_type": "code",
   "execution_count": 34,
   "id": "618a8285",
   "metadata": {},
   "outputs": [
    {
     "name": "stdout",
     "output_type": "stream",
     "text": [
      "0.9930395512820513\n"
     ]
    }
   ],
   "source": [
    "from sklearn.datasets import make_classification\n",
    "from sklearn.ensemble import RandomForestClassifier\n",
    "from sklearn.ensemble import RandomForestRegressor\n",
    "from sklearn.model_selection import cross_val_score\n",
    "from bayes_opt import BayesianOptimization\n",
    "from sklearn.metrics import r2_score\n",
    "\n",
    "# 产生随机分类数据集，10个特征， 2个类别\n",
    "x, y = make_classification(n_samples=1000,n_features=10,n_classes=2)\n",
    "rf = RandomForestClassifier()\n",
    "print(np.mean(cross_val_score(rf, x, y, cv=20, scoring='roc_auc')))"
   ]
  },
  {
   "cell_type": "code",
   "execution_count": 35,
   "id": "54594a68",
   "metadata": {},
   "outputs": [],
   "source": [
    "def rf_cv(n_estimators, min_samples_split, max_features, max_depth):\n",
    "    val = cross_val_score(\n",
    "        RandomForestClassifier(n_estimators=int(n_estimators),\n",
    "            min_samples_split=int(min_samples_split),\n",
    "            max_features=min(max_features, 0.999), # float\n",
    "            max_depth=int(max_depth),\n",
    "            random_state=2\n",
    "        ),\n",
    "        x, y, scoring='roc_auc', cv=5\n",
    "    ).mean()\n",
    "    return val"
   ]
  },
  {
   "cell_type": "code",
   "execution_count": 11,
   "id": "bd92dfd5",
   "metadata": {},
   "outputs": [
    {
     "name": "stdout",
     "output_type": "stream",
     "text": [
      "|   iter    |  target   | max_depth | max_fe... | min_sa... | n_esti... |\n",
      "-------------------------------------------------------------------------\n",
      "| \u001b[0m 1       \u001b[0m | \u001b[0m 0.9724  \u001b[0m | \u001b[0m 7.914   \u001b[0m | \u001b[0m 0.2049  \u001b[0m | \u001b[0m 7.509   \u001b[0m | \u001b[0m 89.04   \u001b[0m |\n",
      "| \u001b[0m 2       \u001b[0m | \u001b[0m 0.9715  \u001b[0m | \u001b[0m 8.792   \u001b[0m | \u001b[0m 0.4519  \u001b[0m | \u001b[0m 23.19   \u001b[0m | \u001b[0m 109.5   \u001b[0m |\n",
      "| \u001b[0m 3       \u001b[0m | \u001b[0m 0.9687  \u001b[0m | \u001b[0m 5.918   \u001b[0m | \u001b[0m 0.9053  \u001b[0m | \u001b[0m 14.88   \u001b[0m | \u001b[0m 140.2   \u001b[0m |\n",
      "| \u001b[0m 4       \u001b[0m | \u001b[0m 0.9698  \u001b[0m | \u001b[0m 12.84   \u001b[0m | \u001b[0m 0.5776  \u001b[0m | \u001b[0m 6.488   \u001b[0m | \u001b[0m 109.8   \u001b[0m |\n",
      "| \u001b[0m 5       \u001b[0m | \u001b[0m 0.9662  \u001b[0m | \u001b[0m 10.52   \u001b[0m | \u001b[0m 0.9554  \u001b[0m | \u001b[0m 5.215   \u001b[0m | \u001b[0m 209.6   \u001b[0m |\n",
      "| \u001b[0m 6       \u001b[0m | \u001b[0m 0.9723  \u001b[0m | \u001b[0m 7.675   \u001b[0m | \u001b[0m 0.297   \u001b[0m | \u001b[0m 7.048   \u001b[0m | \u001b[0m 90.36   \u001b[0m |\n",
      "| \u001b[0m 7       \u001b[0m | \u001b[0m 0.9674  \u001b[0m | \u001b[0m 5.0     \u001b[0m | \u001b[0m 0.999   \u001b[0m | \u001b[0m 25.0    \u001b[0m | \u001b[0m 43.32   \u001b[0m |\n",
      "| \u001b[0m 8       \u001b[0m | \u001b[0m 0.9683  \u001b[0m | \u001b[0m 5.0     \u001b[0m | \u001b[0m 0.999   \u001b[0m | \u001b[0m 25.0    \u001b[0m | \u001b[0m 86.67   \u001b[0m |\n",
      "| \u001b[0m 9       \u001b[0m | \u001b[0m 0.9674  \u001b[0m | \u001b[0m 15.0    \u001b[0m | \u001b[0m 0.1005  \u001b[0m | \u001b[0m 2.0     \u001b[0m | \u001b[0m 81.75   \u001b[0m |\n",
      "| \u001b[0m 10      \u001b[0m | \u001b[0m 0.9666  \u001b[0m | \u001b[0m 9.448   \u001b[0m | \u001b[0m 0.7646  \u001b[0m | \u001b[0m 12.99   \u001b[0m | \u001b[0m 91.82   \u001b[0m |\n",
      "| \u001b[0m 11      \u001b[0m | \u001b[0m 0.9714  \u001b[0m | \u001b[0m 5.794   \u001b[0m | \u001b[0m 0.6711  \u001b[0m | \u001b[0m 5.405   \u001b[0m | \u001b[0m 87.99   \u001b[0m |\n",
      "| \u001b[0m 12      \u001b[0m | \u001b[0m 0.968   \u001b[0m | \u001b[0m 10.41   \u001b[0m | \u001b[0m 0.6615  \u001b[0m | \u001b[0m 4.537   \u001b[0m | \u001b[0m 90.22   \u001b[0m |\n",
      "| \u001b[0m 13      \u001b[0m | \u001b[0m 0.9669  \u001b[0m | \u001b[0m 5.158   \u001b[0m | \u001b[0m 0.1927  \u001b[0m | \u001b[0m 8.117   \u001b[0m | \u001b[0m 89.07   \u001b[0m |\n",
      "| \u001b[0m 14      \u001b[0m | \u001b[0m 0.9718  \u001b[0m | \u001b[0m 8.349   \u001b[0m | \u001b[0m 0.3528  \u001b[0m | \u001b[0m 5.655   \u001b[0m | \u001b[0m 89.87   \u001b[0m |\n",
      "| \u001b[0m 15      \u001b[0m | \u001b[0m 0.9659  \u001b[0m | \u001b[0m 8.561   \u001b[0m | \u001b[0m 0.9207  \u001b[0m | \u001b[0m 5.989   \u001b[0m | \u001b[0m 87.5    \u001b[0m |\n",
      "| \u001b[95m 16      \u001b[0m | \u001b[95m 0.9725  \u001b[0m | \u001b[95m 6.699   \u001b[0m | \u001b[95m 0.205   \u001b[0m | \u001b[95m 6.535   \u001b[0m | \u001b[95m 89.29   \u001b[0m |\n",
      "| \u001b[0m 17      \u001b[0m | \u001b[0m 0.9691  \u001b[0m | \u001b[0m 6.031   \u001b[0m | \u001b[0m 0.7154  \u001b[0m | \u001b[0m 4.201   \u001b[0m | \u001b[0m 89.36   \u001b[0m |\n",
      "| \u001b[0m 18      \u001b[0m | \u001b[0m 0.971   \u001b[0m | \u001b[0m 7.308   \u001b[0m | \u001b[0m 0.381   \u001b[0m | \u001b[0m 5.7     \u001b[0m | \u001b[0m 91.24   \u001b[0m |\n",
      "| \u001b[0m 19      \u001b[0m | \u001b[0m 0.9705  \u001b[0m | \u001b[0m 8.51    \u001b[0m | \u001b[0m 0.3661  \u001b[0m | \u001b[0m 8.001   \u001b[0m | \u001b[0m 90.7    \u001b[0m |\n",
      "| \u001b[0m 20      \u001b[0m | \u001b[0m 0.9681  \u001b[0m | \u001b[0m 9.161   \u001b[0m | \u001b[0m 0.1619  \u001b[0m | \u001b[0m 6.974   \u001b[0m | \u001b[0m 89.43   \u001b[0m |\n",
      "| \u001b[0m 21      \u001b[0m | \u001b[0m 0.968   \u001b[0m | \u001b[0m 8.004   \u001b[0m | \u001b[0m 0.6779  \u001b[0m | \u001b[0m 8.994   \u001b[0m | \u001b[0m 88.4    \u001b[0m |\n",
      "| \u001b[0m 22      \u001b[0m | \u001b[0m 0.972   \u001b[0m | \u001b[0m 6.336   \u001b[0m | \u001b[0m 0.2416  \u001b[0m | \u001b[0m 5.96    \u001b[0m | \u001b[0m 89.99   \u001b[0m |\n",
      "| \u001b[0m 23      \u001b[0m | \u001b[0m 0.9691  \u001b[0m | \u001b[0m 7.585   \u001b[0m | \u001b[0m 0.8232  \u001b[0m | \u001b[0m 23.81   \u001b[0m | \u001b[0m 109.6   \u001b[0m |\n",
      "| \u001b[0m 24      \u001b[0m | \u001b[0m 0.9697  \u001b[0m | \u001b[0m 6.202   \u001b[0m | \u001b[0m 0.5864  \u001b[0m | \u001b[0m 6.782   \u001b[0m | \u001b[0m 91.13   \u001b[0m |\n",
      "| \u001b[0m 25      \u001b[0m | \u001b[0m 0.9686  \u001b[0m | \u001b[0m 7.42    \u001b[0m | \u001b[0m 0.7354  \u001b[0m | \u001b[0m 6.522   \u001b[0m | \u001b[0m 90.12   \u001b[0m |\n",
      "| \u001b[0m 26      \u001b[0m | \u001b[0m 0.9686  \u001b[0m | \u001b[0m 10.94   \u001b[0m | \u001b[0m 0.7296  \u001b[0m | \u001b[0m 14.98   \u001b[0m | \u001b[0m 169.5   \u001b[0m |\n",
      "| \u001b[0m 27      \u001b[0m | \u001b[0m 0.9656  \u001b[0m | \u001b[0m 13.48   \u001b[0m | \u001b[0m 0.701   \u001b[0m | \u001b[0m 6.343   \u001b[0m | \u001b[0m 40.8    \u001b[0m |\n",
      "| \u001b[0m 28      \u001b[0m | \u001b[0m 0.9718  \u001b[0m | \u001b[0m 6.015   \u001b[0m | \u001b[0m 0.4305  \u001b[0m | \u001b[0m 6.339   \u001b[0m | \u001b[0m 168.8   \u001b[0m |\n",
      "| \u001b[0m 29      \u001b[0m | \u001b[0m 0.9683  \u001b[0m | \u001b[0m 11.18   \u001b[0m | \u001b[0m 0.8886  \u001b[0m | \u001b[0m 22.56   \u001b[0m | \u001b[0m 128.2   \u001b[0m |\n",
      "| \u001b[0m 30      \u001b[0m | \u001b[0m 0.969   \u001b[0m | \u001b[0m 7.945   \u001b[0m | \u001b[0m 0.7381  \u001b[0m | \u001b[0m 7.196   \u001b[0m | \u001b[0m 90.65   \u001b[0m |\n",
      "=========================================================================\n"
     ]
    }
   ],
   "source": [
    " rf_bo = BayesianOptimization(\n",
    "        rf_cv,\n",
    "        {'n_estimators': (10, 250),\n",
    "        'min_samples_split': (2, 25),\n",
    "        'max_features': (0.1, 0.999),\n",
    "        'max_depth': (5, 15)}\n",
    "    )\n",
    "rf_bo.maximize()"
   ]
  },
  {
   "cell_type": "markdown",
   "id": "3c91d397",
   "metadata": {},
   "source": [
    "## 随机森林回归\n"
   ]
  },
  {
   "cell_type": "code",
   "execution_count": 37,
   "id": "9285e765",
   "metadata": {
    "scrolled": true
   },
   "outputs": [
    {
     "name": "stdout",
     "output_type": "stream",
     "text": [
      "|   iter    |  target   | max_depth | max_fe... | min_sa... | n_esti... |\n",
      "-------------------------------------------------------------------------\n",
      "| \u001b[0m 1       \u001b[0m | \u001b[0m 0.9989  \u001b[0m | \u001b[0m 10.81   \u001b[0m | \u001b[0m 0.9219  \u001b[0m | \u001b[0m 24.45   \u001b[0m | \u001b[0m 74.73   \u001b[0m |\n",
      "| \u001b[0m 2       \u001b[0m | \u001b[0m 0.9924  \u001b[0m | \u001b[0m 7.403   \u001b[0m | \u001b[0m 0.2774  \u001b[0m | \u001b[0m 17.88   \u001b[0m | \u001b[0m 90.54   \u001b[0m |\n",
      "| \u001b[0m 3       \u001b[0m | \u001b[0m 0.9974  \u001b[0m | \u001b[0m 10.79   \u001b[0m | \u001b[0m 0.3385  \u001b[0m | \u001b[0m 8.391   \u001b[0m | \u001b[0m 14.6    \u001b[0m |\n",
      "| \u001b[95m 4       \u001b[0m | \u001b[95m 0.9989  \u001b[0m | \u001b[95m 12.46   \u001b[0m | \u001b[95m 0.5617  \u001b[0m | \u001b[95m 12.59   \u001b[0m | \u001b[95m 74.63   \u001b[0m |\n",
      "| \u001b[0m 5       \u001b[0m | \u001b[0m 0.9969  \u001b[0m | \u001b[0m 9.06    \u001b[0m | \u001b[0m 0.2313  \u001b[0m | \u001b[0m 23.6    \u001b[0m | \u001b[0m 190.2   \u001b[0m |\n",
      "| \u001b[95m 6       \u001b[0m | \u001b[95m 0.9995  \u001b[0m | \u001b[95m 13.54   \u001b[0m | \u001b[95m 0.6773  \u001b[0m | \u001b[95m 18.5    \u001b[0m | \u001b[95m 70.91   \u001b[0m |\n",
      "| \u001b[0m 7       \u001b[0m | \u001b[0m 0.9487  \u001b[0m | \u001b[0m 5.09    \u001b[0m | \u001b[0m 0.1     \u001b[0m | \u001b[0m 16.11   \u001b[0m | \u001b[0m 60.6    \u001b[0m |\n",
      "| \u001b[0m 8       \u001b[0m | \u001b[0m 0.9893  \u001b[0m | \u001b[0m 5.0     \u001b[0m | \u001b[0m 0.999   \u001b[0m | \u001b[0m 19.7    \u001b[0m | \u001b[0m 10.0    \u001b[0m |\n",
      "| \u001b[0m 9       \u001b[0m | \u001b[0m 0.9972  \u001b[0m | \u001b[0m 12.08   \u001b[0m | \u001b[0m 0.4041  \u001b[0m | \u001b[0m 18.93   \u001b[0m | \u001b[0m 71.68   \u001b[0m |\n",
      "| \u001b[95m 10      \u001b[0m | \u001b[95m 1.0     \u001b[0m | \u001b[95m 15.0    \u001b[0m | \u001b[95m 0.999   \u001b[0m | \u001b[95m 2.0     \u001b[0m | \u001b[95m 86.2    \u001b[0m |\n",
      "| \u001b[95m 11      \u001b[0m | \u001b[95m 1.0     \u001b[0m | \u001b[95m 15.0    \u001b[0m | \u001b[95m 0.999   \u001b[0m | \u001b[95m 2.0     \u001b[0m | \u001b[95m 103.5   \u001b[0m |\n",
      "| \u001b[95m 12      \u001b[0m | \u001b[95m 1.0     \u001b[0m | \u001b[95m 14.99   \u001b[0m | \u001b[95m 0.7198  \u001b[0m | \u001b[95m 2.407   \u001b[0m | \u001b[95m 120.3   \u001b[0m |\n",
      "| \u001b[0m 13      \u001b[0m | \u001b[0m 0.9983  \u001b[0m | \u001b[0m 15.0    \u001b[0m | \u001b[0m 0.1     \u001b[0m | \u001b[0m 16.89   \u001b[0m | \u001b[0m 113.8   \u001b[0m |\n",
      "| \u001b[0m 14      \u001b[0m | \u001b[0m 0.991   \u001b[0m | \u001b[0m 5.0     \u001b[0m | \u001b[0m 0.999   \u001b[0m | \u001b[0m 12.51   \u001b[0m | \u001b[0m 128.8   \u001b[0m |\n",
      "| \u001b[0m 15      \u001b[0m | \u001b[0m 0.9908  \u001b[0m | \u001b[0m 5.0     \u001b[0m | \u001b[0m 0.999   \u001b[0m | \u001b[0m 4.59    \u001b[0m | \u001b[0m 111.1   \u001b[0m |\n",
      "| \u001b[0m 16      \u001b[0m | \u001b[0m 0.9998  \u001b[0m | \u001b[0m 15.0    \u001b[0m | \u001b[0m 0.1     \u001b[0m | \u001b[0m 2.0     \u001b[0m | \u001b[0m 28.02   \u001b[0m |\n",
      "| \u001b[0m 17      \u001b[0m | \u001b[0m 0.9996  \u001b[0m | \u001b[0m 15.0    \u001b[0m | \u001b[0m 0.999   \u001b[0m | \u001b[0m 16.4    \u001b[0m | \u001b[0m 28.42   \u001b[0m |\n",
      "| \u001b[0m 18      \u001b[0m | \u001b[0m 0.991   \u001b[0m | \u001b[0m 5.0     \u001b[0m | \u001b[0m 0.999   \u001b[0m | \u001b[0m 8.514   \u001b[0m | \u001b[0m 28.98   \u001b[0m |\n",
      "| \u001b[0m 19      \u001b[0m | \u001b[0m 0.9994  \u001b[0m | \u001b[0m 11.56   \u001b[0m | \u001b[0m 0.8301  \u001b[0m | \u001b[0m 19.31   \u001b[0m | \u001b[0m 207.3   \u001b[0m |\n",
      "| \u001b[0m 20      \u001b[0m | \u001b[0m 0.9993  \u001b[0m | \u001b[0m 14.41   \u001b[0m | \u001b[0m 0.4334  \u001b[0m | \u001b[0m 8.88    \u001b[0m | \u001b[0m 197.7   \u001b[0m |\n",
      "| \u001b[0m 21      \u001b[0m | \u001b[0m 0.9858  \u001b[0m | \u001b[0m 6.813   \u001b[0m | \u001b[0m 0.6448  \u001b[0m | \u001b[0m 6.319   \u001b[0m | \u001b[0m 210.1   \u001b[0m |\n",
      "| \u001b[0m 22      \u001b[0m | \u001b[0m 0.9992  \u001b[0m | \u001b[0m 13.59   \u001b[0m | \u001b[0m 0.1162  \u001b[0m | \u001b[0m 9.246   \u001b[0m | \u001b[0m 185.0   \u001b[0m |\n",
      "| \u001b[0m 23      \u001b[0m | \u001b[0m 0.9909  \u001b[0m | \u001b[0m 5.0     \u001b[0m | \u001b[0m 0.999   \u001b[0m | \u001b[0m 2.0     \u001b[0m | \u001b[0m 189.5   \u001b[0m |\n",
      "| \u001b[0m 24      \u001b[0m | \u001b[0m 0.9982  \u001b[0m | \u001b[0m 13.9    \u001b[0m | \u001b[0m 0.1679  \u001b[0m | \u001b[0m 18.85   \u001b[0m | \u001b[0m 176.5   \u001b[0m |\n",
      "| \u001b[0m 25      \u001b[0m | \u001b[0m 0.9997  \u001b[0m | \u001b[0m 15.0    \u001b[0m | \u001b[0m 0.1     \u001b[0m | \u001b[0m 5.369   \u001b[0m | \u001b[0m 171.0   \u001b[0m |\n",
      "| \u001b[0m 26      \u001b[0m | \u001b[0m 0.9909  \u001b[0m | \u001b[0m 5.0     \u001b[0m | \u001b[0m 0.999   \u001b[0m | \u001b[0m 12.62   \u001b[0m | \u001b[0m 166.3   \u001b[0m |\n",
      "| \u001b[0m 27      \u001b[0m | \u001b[0m 0.9871  \u001b[0m | \u001b[0m 6.727   \u001b[0m | \u001b[0m 0.1     \u001b[0m | \u001b[0m 2.0     \u001b[0m | \u001b[0m 93.91   \u001b[0m |\n",
      "| \u001b[0m 28      \u001b[0m | \u001b[0m 0.9995  \u001b[0m | \u001b[0m 15.0    \u001b[0m | \u001b[0m 0.999   \u001b[0m | \u001b[0m 18.92   \u001b[0m | \u001b[0m 197.8   \u001b[0m |\n",
      "| \u001b[0m 29      \u001b[0m | \u001b[0m 0.9985  \u001b[0m | \u001b[0m 15.0    \u001b[0m | \u001b[0m 0.999   \u001b[0m | \u001b[0m 25.0    \u001b[0m | \u001b[0m 219.3   \u001b[0m |\n",
      "| \u001b[0m 30      \u001b[0m | \u001b[0m 0.9989  \u001b[0m | \u001b[0m 13.5    \u001b[0m | \u001b[0m 0.7879  \u001b[0m | \u001b[0m 24.63   \u001b[0m | \u001b[0m 234.9   \u001b[0m |\n",
      "=========================================================================\n"
     ]
    }
   ],
   "source": [
    "def rf_cv(n_estimators, min_samples_split, max_features, max_depth):\n",
    "    rfr=RandomForestRegressor(n_estimators=int(n_estimators),\n",
    "            min_samples_split=int(min_samples_split),\n",
    "            max_features=min(max_features, 0.999), # float\n",
    "            max_depth=int(max_depth),\n",
    "            random_state=2)\n",
    "    rfr.fit(train_xt,train_yt)\n",
    "    pre=rfr.predict(train_xt)    \n",
    "    val=r2_score(train_yt,pre)\n",
    "    #val=rfr.score(train_xt,train_yt)\n",
    "    return val\n",
    "rf_bo = BayesianOptimization(\n",
    "        rf_cv,\n",
    "        {'n_estimators': (10, 250),\n",
    "        'min_samples_split': (2, 25),\n",
    "        'max_features': (0.1, 0.999),\n",
    "        'max_depth': (5, 15)}\n",
    "    )\n",
    "rf_bo.maximize()"
   ]
  }
 ],
 "metadata": {
  "kernelspec": {
   "display_name": "Python 3 (ipykernel)",
   "language": "python",
   "name": "python3"
  },
  "language_info": {
   "codemirror_mode": {
    "name": "ipython",
    "version": 3
   },
   "file_extension": ".py",
   "mimetype": "text/x-python",
   "name": "python",
   "nbconvert_exporter": "python",
   "pygments_lexer": "ipython3",
   "version": "3.7.16"
  },
  "toc": {
   "base_numbering": 1,
   "nav_menu": {},
   "number_sections": true,
   "sideBar": true,
   "skip_h1_title": false,
   "title_cell": "Table of Contents",
   "title_sidebar": "Contents",
   "toc_cell": false,
   "toc_position": {},
   "toc_section_display": true,
   "toc_window_display": false
  }
 },
 "nbformat": 4,
 "nbformat_minor": 5
}
