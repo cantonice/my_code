{
 "cells": [
  {
   "cell_type": "code",
   "execution_count": 85,
   "id": "1b1b00f1",
   "metadata": {},
   "outputs": [],
   "source": [
    "import numpy\n",
    "import numpy as np\n",
    "import pandas as pd\n",
    "from sklearn.model_selection import train_test_split\n",
    "from sklearn.preprocessing import StandardScaler\n",
    "from sklearn import preprocessing\n",
    "import torch\n",
    "import torch.nn as nn\n",
    "import torch.nn.functional as F\n",
    "from torch.optim import Adam\n",
    "import torch.utils.data as Data\n",
    "import matplotlib.pyplot as plt\n",
    "from sklearn.metrics import r2_score\n",
    "\n",
    "#data=pd.read_excel('F:/TFT_FINAL/gm.xlsx',engine='openpyxl')\n",
    "data=pd.read_csv('F:/调参/vg_19.csv')\n",
    "vg=data['Vg'].values\n",
    "vd=data['Vd'].values\n",
    "ids=data['Id4'].values"
   ]
  },
  {
   "cell_type": "code",
   "execution_count": 86,
   "id": "042e93bb",
   "metadata": {},
   "outputs": [],
   "source": [
    "def m_diff(data,x,dv):\n",
    "    h=1e-10\n",
    "    diff=(data[x+1]-data[x-1])/(2*dv)\n",
    "    return diff"
   ]
  },
  {
   "cell_type": "code",
   "execution_count": 87,
   "id": "24202cf5",
   "metadata": {},
   "outputs": [],
   "source": [
    "gms=[]\n",
    "for i in range(len(ids)-1):\n",
    "    gm=m_diff(ids,i,0.1)\n",
    "    gms.append(gm)\n",
    "\n",
    "GM=pd.DataFrame({'gd':gms})\n",
    "GM.to_csv('F:/TFT_FINAL/g/gd_19.csv',index=False,sep=',')"
   ]
  },
  {
   "cell_type": "code",
   "execution_count": 4,
   "id": "a75bf1c2",
   "metadata": {},
   "outputs": [],
   "source": [
    "# 定义计算离散点导数的函数\n",
    "def cal_deriv(x, y):                  # x, y的类型均为列表\n",
    "    diff_x = []                       # 用来存储x列表中的两数之差\n",
    "    for i, j in zip(x[0::], x[1::]):  \n",
    "        diff_x.append(j - i)\n",
    " \n",
    "    diff_y = []                       # 用来存储y列表中的两数之差\n",
    "    for i, j in zip(y[0::], y[1::]):\n",
    "        diff_y.append(j - i)  \n",
    "        \n",
    "    slopes = []                       # 用来存储斜率\n",
    "    for i in range(len(diff_y)):\n",
    "        slopes.append(diff_y[i] / diff_x[i])\n",
    "        \n",
    "    deriv = []                        # 用来存储一阶导数\n",
    "    for i, j in zip(slopes[0::], slopes[1::]):        \n",
    "        deriv.append((0.5 * (i + j))) # 根据离散点导数的定义，计算并存储结果\n",
    "    deriv.insert(0, slopes[0])        # (左)端点的导数即为与其最近点的斜率\n",
    "    deriv.append(slopes[-1])          # (右)端点的导数即为与其最近点的斜率\n",
    " \n",
    "    for i in deriv:                   # 打印结果，方便检查，调用时也可注释掉\n",
    "        print(i)\n",
    " \n",
    "    return deriv                      # 返回存储一阶导数结果的列表"
   ]
  }
 ],
 "metadata": {
  "kernelspec": {
   "display_name": "Python 3 (ipykernel)",
   "language": "python",
   "name": "python3"
  },
  "language_info": {
   "codemirror_mode": {
    "name": "ipython",
    "version": 3
   },
   "file_extension": ".py",
   "mimetype": "text/x-python",
   "name": "python",
   "nbconvert_exporter": "python",
   "pygments_lexer": "ipython3",
   "version": "3.7.16"
  },
  "toc": {
   "base_numbering": 1,
   "nav_menu": {},
   "number_sections": true,
   "sideBar": true,
   "skip_h1_title": false,
   "title_cell": "Table of Contents",
   "title_sidebar": "Contents",
   "toc_cell": false,
   "toc_position": {},
   "toc_section_display": true,
   "toc_window_display": false
  }
 },
 "nbformat": 4,
 "nbformat_minor": 5
}
