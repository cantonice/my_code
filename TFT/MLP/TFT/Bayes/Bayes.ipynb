{
 "cells": [
  {
   "cell_type": "code",
   "execution_count": 4,
   "id": "14e0be46",
   "metadata": {},
   "outputs": [
    {
     "name": "stdout",
     "output_type": "stream",
     "text": [
      "[10.48288651  8.35886953  1.66376229]\n"
     ]
    }
   ],
   "source": [
    "import numpy\n",
    "import numpy as np\n",
    "import pandas as pd\n",
    "from sklearn.model_selection import train_test_split\n",
    "from sklearn.preprocessing import StandardScaler\n",
    "from sklearn import preprocessing\n",
    "import torch\n",
    "import torch.nn as nn\n",
    "import torch.nn.functional as F\n",
    "from torch.optim import Adam\n",
    "import torch.utils.data as Data\n",
    "import matplotlib.pyplot as plt\n",
    "from sklearn.metrics import r2_score\n",
    "\n",
    "data=pd.read_excel('C:/Users/XHM/Desktop/data/TFT/trainlog.xlsx',engine='openpyxl')\n",
    "all_input=data[['Vg','Vd','W/L']].values\n",
    "all_output=data['Id1'].values\n",
    "z=preprocessing.StandardScaler()\n",
    "#all_output=minmax.fit_transform(data['Idrain'].values.reshape(-1,1))\n",
    "\n",
    "(x_train,x_test,y_train,y_test)=train_test_split(all_input,all_output,train_size=0.8,\n",
    "                                                 random_state=0)\n",
    "a=np.mean(x_train, axis = 0)\n",
    "print(a)\n",
    "#标准化处理\n",
    "x_train=z.fit_transform(x_train)\n",
    "x_test=z.transform(x_test)\n",
    "#z.inverse_transform\n",
    "\n",
    "\n",
    "\n",
    "#数据类型处理\n",
    "train_xt=torch.from_numpy(x_train.astype(np.float32))\n",
    "train_yt=torch.from_numpy(y_train.astype(np.float32))\n",
    "test_xt=torch.from_numpy(x_test.astype(np.float32))\n",
    "test_yt=torch.from_numpy(y_test.astype(np.float32))\n",
    "#将数据处理为数据加载器\n",
    "train_data=Data.TensorDataset(train_xt,train_yt.float())\n",
    "test_data=Data.TensorDataset(test_xt,test_yt.float())\n",
    "\n",
    "train_loader=Data.DataLoader(dataset=train_data,batch_size=32,shuffle=True,num_workers=0)\n",
    "test_loader=Data.DataLoader(dataset=test_data,batch_size=32,shuffle=False,num_workers=0)\n"
   ]
  },
  {
   "cell_type": "code",
   "execution_count": 5,
   "id": "72d0990f",
   "metadata": {},
   "outputs": [],
   "source": [
    "from sklearn.model_selection import cross_val_score\n",
    "from bayes_opt import BayesianOptimization\n",
    "from sklearn.neural_network import MLPRegressor\n",
    "from sklearn import metrics\n",
    "from sklearn.metrics import mean_absolute_error,make_scorer\n",
    "from sklearn.metrics import r2_score\n",
    "\n",
    "from sklearn.ensemble import RandomForestRegressor"
   ]
  },
  {
   "cell_type": "markdown",
   "id": "36be052d",
   "metadata": {},
   "source": [
    "# 对MLP应用贝叶斯"
   ]
  },
  {
   "cell_type": "code",
   "execution_count": 12,
   "id": "3c421b4c",
   "metadata": {
    "scrolled": true
   },
   "outputs": [
    {
     "name": "stdout",
     "output_type": "stream",
     "text": [
      "|   iter    |  target   |   hid_1   |   hid_2   |\n",
      "-------------------------------------------------\n",
      "| \u001b[0m 1       \u001b[0m | \u001b[0m 0.9946  \u001b[0m | \u001b[0m 14.49   \u001b[0m | \u001b[0m 7.648   \u001b[0m |\n",
      "| \u001b[95m 2       \u001b[0m | \u001b[95m 0.9948  \u001b[0m | \u001b[95m 11.6    \u001b[0m | \u001b[95m 10.07   \u001b[0m |\n",
      "| \u001b[95m 3       \u001b[0m | \u001b[95m 0.9955  \u001b[0m | \u001b[95m 9.213   \u001b[0m | \u001b[95m 12.22   \u001b[0m |\n",
      "| \u001b[0m 4       \u001b[0m | \u001b[0m 0.9949  \u001b[0m | \u001b[0m 14.27   \u001b[0m | \u001b[0m 9.089   \u001b[0m |\n",
      "| \u001b[0m 5       \u001b[0m | \u001b[0m 0.9941  \u001b[0m | \u001b[0m 6.241   \u001b[0m | \u001b[0m 12.52   \u001b[0m |\n",
      "| \u001b[0m 6       \u001b[0m | \u001b[0m 0.9948  \u001b[0m | \u001b[0m 14.58   \u001b[0m | \u001b[0m 11.37   \u001b[0m |\n",
      "| \u001b[0m 7       \u001b[0m | \u001b[0m 0.9942  \u001b[0m | \u001b[0m 14.94   \u001b[0m | \u001b[0m 8.977   \u001b[0m |\n",
      "| \u001b[0m 8       \u001b[0m | \u001b[0m 0.9942  \u001b[0m | \u001b[0m 14.6    \u001b[0m | \u001b[0m 11.38   \u001b[0m |\n",
      "| \u001b[0m 9       \u001b[0m | \u001b[0m 0.9946  \u001b[0m | \u001b[0m 7.411   \u001b[0m | \u001b[0m 7.807   \u001b[0m |\n",
      "| \u001b[0m 10      \u001b[0m | \u001b[0m 0.9954  \u001b[0m | \u001b[0m 11.55   \u001b[0m | \u001b[0m 9.366   \u001b[0m |\n",
      "| \u001b[0m 11      \u001b[0m | \u001b[0m 0.9948  \u001b[0m | \u001b[0m 13.7    \u001b[0m | \u001b[0m 12.24   \u001b[0m |\n",
      "| \u001b[0m 12      \u001b[0m | \u001b[0m 0.994   \u001b[0m | \u001b[0m 11.76   \u001b[0m | \u001b[0m 12.99   \u001b[0m |\n",
      "| \u001b[0m 13      \u001b[0m | \u001b[0m 0.9936  \u001b[0m | \u001b[0m 9.936   \u001b[0m | \u001b[0m 8.938   \u001b[0m |\n",
      "| \u001b[0m 14      \u001b[0m | \u001b[0m 0.9941  \u001b[0m | \u001b[0m 13.27   \u001b[0m | \u001b[0m 9.15    \u001b[0m |\n",
      "| \u001b[0m 15      \u001b[0m | \u001b[0m 0.9952  \u001b[0m | \u001b[0m 12.49   \u001b[0m | \u001b[0m 14.46   \u001b[0m |\n",
      "| \u001b[0m 16      \u001b[0m | \u001b[0m 0.9944  \u001b[0m | \u001b[0m 6.85    \u001b[0m | \u001b[0m 14.43   \u001b[0m |\n",
      "| \u001b[0m 17      \u001b[0m | \u001b[0m 0.9929  \u001b[0m | \u001b[0m 8.777   \u001b[0m | \u001b[0m 7.28    \u001b[0m |\n",
      "| \u001b[0m 18      \u001b[0m | \u001b[0m 0.9941  \u001b[0m | \u001b[0m 6.25    \u001b[0m | \u001b[0m 9.461   \u001b[0m |\n",
      "| \u001b[0m 19      \u001b[0m | \u001b[0m 0.995   \u001b[0m | \u001b[0m 10.62   \u001b[0m | \u001b[0m 12.26   \u001b[0m |\n",
      "| \u001b[0m 20      \u001b[0m | \u001b[0m 0.9937  \u001b[0m | \u001b[0m 7.432   \u001b[0m | \u001b[0m 13.57   \u001b[0m |\n",
      "| \u001b[0m 21      \u001b[0m | \u001b[0m 0.994   \u001b[0m | \u001b[0m 12.3    \u001b[0m | \u001b[0m 9.554   \u001b[0m |\n",
      "| \u001b[0m 22      \u001b[0m | \u001b[0m 0.9945  \u001b[0m | \u001b[0m 8.263   \u001b[0m | \u001b[0m 12.71   \u001b[0m |\n",
      "| \u001b[0m 23      \u001b[0m | \u001b[0m 0.9935  \u001b[0m | \u001b[0m 7.784   \u001b[0m | \u001b[0m 7.503   \u001b[0m |\n",
      "| \u001b[0m 24      \u001b[0m | \u001b[0m 0.9942  \u001b[0m | \u001b[0m 12.26   \u001b[0m | \u001b[0m 12.45   \u001b[0m |\n",
      "| \u001b[0m 25      \u001b[0m | \u001b[0m 0.9938  \u001b[0m | \u001b[0m 5.331   \u001b[0m | \u001b[0m 10.41   \u001b[0m |\n",
      "| \u001b[0m 26      \u001b[0m | \u001b[0m 0.9941  \u001b[0m | \u001b[0m 11.91   \u001b[0m | \u001b[0m 14.92   \u001b[0m |\n",
      "| \u001b[0m 27      \u001b[0m | \u001b[0m 0.9952  \u001b[0m | \u001b[0m 9.558   \u001b[0m | \u001b[0m 13.15   \u001b[0m |\n",
      "| \u001b[0m 28      \u001b[0m | \u001b[0m 0.9939  \u001b[0m | \u001b[0m 6.44    \u001b[0m | \u001b[0m 15.0    \u001b[0m |\n",
      "| \u001b[0m 29      \u001b[0m | \u001b[0m 0.9937  \u001b[0m | \u001b[0m 6.448   \u001b[0m | \u001b[0m 13.57   \u001b[0m |\n",
      "| \u001b[0m 30      \u001b[0m | \u001b[0m 0.9943  \u001b[0m | \u001b[0m 9.065   \u001b[0m | \u001b[0m 10.6    \u001b[0m |\n",
      "=================================================\n"
     ]
    }
   ],
   "source": [
    "def rf_cv(hid_1, hid_2):  #优化目标\n",
    "    mlp=MLPRegressor(hidden_layer_sizes=(int(hid_1),int(hid_2)),\n",
    "        max_iter=1000,\n",
    "        activation='tanh',\n",
    "        solver='adam',\n",
    "        learning_rate_init=0.001,\n",
    "        shuffle =True,\n",
    "        batch_size=32)\n",
    "    mlp.fit(train_xt,train_yt)\n",
    "    pre=mlp.predict(test_xt)    \n",
    "    val=r2_score(test_yt,pre)\n",
    "    #val=mlp.score(train_xt,train_yt)\n",
    "    return val\n",
    "rf_bo = BayesianOptimization(\n",
    "        rf_cv,\n",
    "        {'hid_1': (5, 15),\n",
    "        'hid_2': (5, 15),\n",
    "        }\n",
    "    )\n",
    "rf_bo.maximize()"
   ]
  },
  {
   "cell_type": "markdown",
   "id": "35bab37f",
   "metadata": {},
   "source": [
    "# 对随机森林应用贝叶斯"
   ]
  },
  {
   "cell_type": "code",
   "execution_count": 6,
   "id": "1c0724f1",
   "metadata": {
    "scrolled": true
   },
   "outputs": [
    {
     "name": "stdout",
     "output_type": "stream",
     "text": [
      "|   iter    |  target   | max_depth | max_fe... | min_sa... | n_esti... |\n",
      "-------------------------------------------------------------------------\n",
      "| \u001b[0m 1       \u001b[0m | \u001b[0m 0.9991  \u001b[0m | \u001b[0m 12.1    \u001b[0m | \u001b[0m 0.15    \u001b[0m | \u001b[0m 4.678   \u001b[0m | \u001b[0m 34.56   \u001b[0m |\n",
      "| \u001b[0m 2       \u001b[0m | \u001b[0m 0.9972  \u001b[0m | \u001b[0m 8.083   \u001b[0m | \u001b[0m 0.2582  \u001b[0m | \u001b[0m 2.41    \u001b[0m | \u001b[0m 158.4   \u001b[0m |\n",
      "| \u001b[95m 3       \u001b[0m | \u001b[95m 0.9996  \u001b[0m | \u001b[95m 9.8     \u001b[0m | \u001b[95m 0.9889  \u001b[0m | \u001b[95m 15.37   \u001b[0m | \u001b[95m 63.86   \u001b[0m |\n",
      "| \u001b[95m 4       \u001b[0m | \u001b[95m 0.9998  \u001b[0m | \u001b[95m 11.88   \u001b[0m | \u001b[95m 0.9781  \u001b[0m | \u001b[95m 11.76   \u001b[0m | \u001b[95m 130.3   \u001b[0m |\n",
      "| \u001b[0m 5       \u001b[0m | \u001b[0m 0.9992  \u001b[0m | \u001b[0m 12.32   \u001b[0m | \u001b[0m 0.8277  \u001b[0m | \u001b[0m 21.1    \u001b[0m | \u001b[0m 113.5   \u001b[0m |\n",
      "| \u001b[0m 6       \u001b[0m | \u001b[0m 0.9994  \u001b[0m | \u001b[0m 14.31   \u001b[0m | \u001b[0m 0.2043  \u001b[0m | \u001b[0m 7.486   \u001b[0m | \u001b[0m 121.7   \u001b[0m |\n",
      "| \u001b[0m 7       \u001b[0m | \u001b[0m 0.9908  \u001b[0m | \u001b[0m 5.363   \u001b[0m | \u001b[0m 0.9233  \u001b[0m | \u001b[0m 24.36   \u001b[0m | \u001b[0m 133.4   \u001b[0m |\n",
      "| \u001b[0m 8       \u001b[0m | \u001b[0m 0.999   \u001b[0m | \u001b[0m 12.04   \u001b[0m | \u001b[0m 0.1215  \u001b[0m | \u001b[0m 11.02   \u001b[0m | \u001b[0m 129.0   \u001b[0m |\n",
      "| \u001b[0m 9       \u001b[0m | \u001b[0m 0.999   \u001b[0m | \u001b[0m 14.65   \u001b[0m | \u001b[0m 0.435   \u001b[0m | \u001b[0m 9.22    \u001b[0m | \u001b[0m 136.3   \u001b[0m |\n",
      "| \u001b[95m 10      \u001b[0m | \u001b[95m 0.9999  \u001b[0m | \u001b[95m 12.23   \u001b[0m | \u001b[95m 0.9564  \u001b[0m | \u001b[95m 10.73   \u001b[0m | \u001b[95m 112.6   \u001b[0m |\n",
      "| \u001b[95m 11      \u001b[0m | \u001b[95m 0.9999  \u001b[0m | \u001b[95m 14.79   \u001b[0m | \u001b[95m 0.3409  \u001b[0m | \u001b[95m 2.286   \u001b[0m | \u001b[95m 113.4   \u001b[0m |\n",
      "| \u001b[0m 12      \u001b[0m | \u001b[0m 0.9908  \u001b[0m | \u001b[0m 5.0     \u001b[0m | \u001b[0m 0.999   \u001b[0m | \u001b[0m 4.129   \u001b[0m | \u001b[0m 111.2   \u001b[0m |\n",
      "| \u001b[0m 13      \u001b[0m | \u001b[0m 0.9997  \u001b[0m | \u001b[0m 15.0    \u001b[0m | \u001b[0m 0.999   \u001b[0m | \u001b[0m 14.36   \u001b[0m | \u001b[0m 117.6   \u001b[0m |\n",
      "| \u001b[0m 14      \u001b[0m | \u001b[0m 0.9982  \u001b[0m | \u001b[0m 14.25   \u001b[0m | \u001b[0m 0.4244  \u001b[0m | \u001b[0m 16.05   \u001b[0m | \u001b[0m 105.5   \u001b[0m |\n",
      "| \u001b[0m 15      \u001b[0m | \u001b[0m 0.9997  \u001b[0m | \u001b[0m 10.6    \u001b[0m | \u001b[0m 0.8156  \u001b[0m | \u001b[0m 12.63   \u001b[0m | \u001b[0m 55.1    \u001b[0m |\n",
      "| \u001b[0m 16      \u001b[0m | \u001b[0m 0.9985  \u001b[0m | \u001b[0m 9.039   \u001b[0m | \u001b[0m 0.3619  \u001b[0m | \u001b[0m 6.239   \u001b[0m | \u001b[0m 61.56   \u001b[0m |\n",
      "| \u001b[0m 17      \u001b[0m | \u001b[0m 0.9802  \u001b[0m | \u001b[0m 6.882   \u001b[0m | \u001b[0m 0.5399  \u001b[0m | \u001b[0m 20.49   \u001b[0m | \u001b[0m 57.1    \u001b[0m |\n",
      "| \u001b[0m 18      \u001b[0m | \u001b[0m 0.9991  \u001b[0m | \u001b[0m 14.32   \u001b[0m | \u001b[0m 0.4313  \u001b[0m | \u001b[0m 11.24   \u001b[0m | \u001b[0m 61.49   \u001b[0m |\n",
      "| \u001b[0m 19      \u001b[0m | \u001b[0m 0.9992  \u001b[0m | \u001b[0m 12.7    \u001b[0m | \u001b[0m 0.6054  \u001b[0m | \u001b[0m 6.965   \u001b[0m | \u001b[0m 53.28   \u001b[0m |\n",
      "| \u001b[0m 20      \u001b[0m | \u001b[0m 0.9998  \u001b[0m | \u001b[0m 11.52   \u001b[0m | \u001b[0m 0.7461  \u001b[0m | \u001b[0m 11.28   \u001b[0m | \u001b[0m 69.83   \u001b[0m |\n",
      "| \u001b[0m 21      \u001b[0m | \u001b[0m 0.9982  \u001b[0m | \u001b[0m 13.78   \u001b[0m | \u001b[0m 0.5797  \u001b[0m | \u001b[0m 18.92   \u001b[0m | \u001b[0m 71.13   \u001b[0m |\n",
      "| \u001b[0m 22      \u001b[0m | \u001b[0m 0.9903  \u001b[0m | \u001b[0m 5.065   \u001b[0m | \u001b[0m 0.7111  \u001b[0m | \u001b[0m 12.44   \u001b[0m | \u001b[0m 71.3    \u001b[0m |\n",
      "| \u001b[0m 23      \u001b[0m | \u001b[0m 0.9995  \u001b[0m | \u001b[0m 15.0    \u001b[0m | \u001b[0m 0.1802  \u001b[0m | \u001b[0m 6.814   \u001b[0m | \u001b[0m 67.7    \u001b[0m |\n",
      "| \u001b[0m 24      \u001b[0m | \u001b[0m 0.9997  \u001b[0m | \u001b[0m 15.0    \u001b[0m | \u001b[0m 0.999   \u001b[0m | \u001b[0m 14.12   \u001b[0m | \u001b[0m 66.85   \u001b[0m |\n",
      "| \u001b[0m 25      \u001b[0m | \u001b[0m 0.9926  \u001b[0m | \u001b[0m 7.884   \u001b[0m | \u001b[0m 0.2527  \u001b[0m | \u001b[0m 14.17   \u001b[0m | \u001b[0m 118.7   \u001b[0m |\n",
      "| \u001b[0m 26      \u001b[0m | \u001b[0m 0.9995  \u001b[0m | \u001b[0m 7.094   \u001b[0m | \u001b[0m 0.8138  \u001b[0m | \u001b[0m 6.883   \u001b[0m | \u001b[0m 134.5   \u001b[0m |\n",
      "| \u001b[95m 27      \u001b[0m | \u001b[95m 1.0     \u001b[0m | \u001b[95m 13.58   \u001b[0m | \u001b[95m 0.672   \u001b[0m | \u001b[95m 2.827   \u001b[0m | \u001b[95m 130.0   \u001b[0m |\n",
      "| \u001b[0m 28      \u001b[0m | \u001b[0m 0.9957  \u001b[0m | \u001b[0m 7.108   \u001b[0m | \u001b[0m 0.412   \u001b[0m | \u001b[0m 2.394   \u001b[0m | \u001b[0m 127.6   \u001b[0m |\n",
      "| \u001b[0m 29      \u001b[0m | \u001b[0m 0.9999  \u001b[0m | \u001b[0m 13.72   \u001b[0m | \u001b[0m 0.4552  \u001b[0m | \u001b[0m 2.512   \u001b[0m | \u001b[0m 136.9   \u001b[0m |\n",
      "| \u001b[0m 30      \u001b[0m | \u001b[0m 0.9999  \u001b[0m | \u001b[0m 8.637   \u001b[0m | \u001b[0m 0.9847  \u001b[0m | \u001b[0m 5.821   \u001b[0m | \u001b[0m 141.9   \u001b[0m |\n",
      "=========================================================================\n"
     ]
    }
   ],
   "source": [
    "def rf_cv(n_estimators, min_samples_split, max_features, max_depth):\n",
    "    rfr=RandomForestRegressor(n_estimators=int(n_estimators),\n",
    "            min_samples_split=int(min_samples_split),\n",
    "            max_features=min(max_features, 0.999), # float\n",
    "            max_depth=int(max_depth),\n",
    "            random_state=2)\n",
    "    rfr.fit(train_xt,train_yt)\n",
    "    pre=rfr.predict(train_xt)    \n",
    "    val=r2_score(train_yt,pre)\n",
    "    #val=rfr.score(train_xt,train_yt)\n",
    "    return val\n",
    "rf_bo = BayesianOptimization(\n",
    "        rf_cv,\n",
    "        {'n_estimators': (10, 250),\n",
    "        'min_samples_split': (2, 25),\n",
    "        'max_features': (0.1, 0.999),\n",
    "        'max_depth': (5, 15)}\n",
    "    )\n",
    "rf_bo.maximize()"
   ]
  },
  {
   "cell_type": "code",
   "execution_count": null,
   "id": "9af5378b",
   "metadata": {},
   "outputs": [],
   "source": [
    "import GPy\n",
    "import GPyOpt\n",
    "\n",
    "from GPyOpt.methods import BayesianOptimization\n",
    "bounds = np.array([[0, 50]])\n",
    "\n",
    "def rf_cv(hid_1, hid_2):  #优化目标\n",
    "    mlp=MLPRegressor(hidden_layer_sizes=(int(hid_1),int(hid_2)),\n",
    "        max_iter=1000,\n",
    "        activation='logistic',\n",
    "        solver='adam',\n",
    "        learning_rate_init=0.004,\n",
    "        shuffle =True,\n",
    "        batch_size=64)\n",
    "    mlp.fit(train_xt,train_yt)\n",
    "    pre=mlp.predict(test_xt)    \n",
    "    val=r2_score(test_yt,pre)\n",
    "    #val=mlp.score(train_xt,train_yt)\n",
    "    return val\n",
    "kernel = GPy.kern.Matern52(input_dim=2, variance=1.0, lengthscale=1.0)\n",
    "\n",
    "params={'n_hidden_l1': (32, 256),\n",
    "        'n_hidden_l2': (32, 256),}\n",
    "bds=params\n",
    "\n",
    "optimizer = BayesianOptimization(f=rf_cv, \n",
    "                                 domain=bds,\n",
    "                                \n",
    "                                 model_type='GP',\n",
    "                                 kernel=kernel,\n",
    "                                 acquisition_type ='EI',\n",
    "                                 acquisition_jitter = 0.01,\n",
    "                                 exact_feval=False,\n",
    "                                 normalize_Y=False,\n",
    "                                 maximize=True)\n",
    "\n",
    "optimizer.run_optimization(max_iter=10)\n",
    "optimizer.plot_acquisition()\n",
    "optimizer.plot_convergence()"
   ]
  }
 ],
 "metadata": {
  "kernelspec": {
   "display_name": "Python 3 (ipykernel)",
   "language": "python",
   "name": "python3"
  },
  "language_info": {
   "codemirror_mode": {
    "name": "ipython",
    "version": 3
   },
   "file_extension": ".py",
   "mimetype": "text/x-python",
   "name": "python",
   "nbconvert_exporter": "python",
   "pygments_lexer": "ipython3",
   "version": "3.7.16"
  },
  "toc": {
   "base_numbering": 1,
   "nav_menu": {},
   "number_sections": true,
   "sideBar": true,
   "skip_h1_title": false,
   "title_cell": "Table of Contents",
   "title_sidebar": "Contents",
   "toc_cell": false,
   "toc_position": {},
   "toc_section_display": true,
   "toc_window_display": false
  }
 },
 "nbformat": 4,
 "nbformat_minor": 5
}
