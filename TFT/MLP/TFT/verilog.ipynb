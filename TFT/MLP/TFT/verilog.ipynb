{
 "cells": [
  {
   "cell_type": "code",
   "execution_count": 1,
   "id": "ef519581",
   "metadata": {
    "scrolled": true,
    "ExecuteTime": {
     "start_time": "2024-07-01T11:10:52.480758Z",
     "end_time": "2024-07-01T11:10:54.172425Z"
    }
   },
   "outputs": [],
   "source": [
    "import torch\n",
    "k=torch.arange(45).reshape(3,15)\n"
   ]
  },
  {
   "cell_type": "code",
   "execution_count": 2,
   "id": "39c15856",
   "metadata": {
    "ExecuteTime": {
     "start_time": "2024-07-01T11:11:02.536482Z",
     "end_time": "2024-07-01T11:11:02.549815Z"
    }
   },
   "outputs": [],
   "source": [
    "with open('E:/pycharm/my_code/TFT/txt1.txt','w',encoding='utf-8')as op:\n",
    "    for i in range(15):\n",
    "        j=k[1,i]\n",
    "        op.write('parameter real w1010'+str(i)+'='+str(j)+'\\r\\n')\n",
    "             "
   ]
  },
  {
   "cell_type": "code",
   "execution_count": 3,
   "id": "65b20825",
   "metadata": {
    "ExecuteTime": {
     "start_time": "2024-07-01T11:11:04.994530Z",
     "end_time": "2024-07-01T11:11:05.012868Z"
    }
   },
   "outputs": [
    {
     "name": "stdout",
     "output_type": "stream",
     "text": [
      "para 14 = tensor(29)\n"
     ]
    }
   ],
   "source": [
    "print('para',i,\"=\",j)"
   ]
  },
  {
   "cell_type": "code",
   "execution_count": 4,
   "id": "16a4a927",
   "metadata": {
    "ExecuteTime": {
     "start_time": "2024-07-01T11:11:08.440910Z",
     "end_time": "2024-07-01T11:11:08.457565Z"
    }
   },
   "outputs": [
    {
     "name": "stdout",
     "output_type": "stream",
     "text": [
      "tensor(29)\n"
     ]
    }
   ],
   "source": [
    "print(j)"
   ]
  },
  {
   "cell_type": "code",
   "execution_count": null,
   "outputs": [],
   "source": [],
   "metadata": {
    "collapsed": false
   }
  }
 ],
 "metadata": {
  "kernelspec": {
   "display_name": "Python 3 (ipykernel)",
   "language": "python",
   "name": "python3"
  },
  "language_info": {
   "codemirror_mode": {
    "name": "ipython",
    "version": 3
   },
   "file_extension": ".py",
   "mimetype": "text/x-python",
   "name": "python",
   "nbconvert_exporter": "python",
   "pygments_lexer": "ipython3",
   "version": "3.7.16"
  }
 },
 "nbformat": 4,
 "nbformat_minor": 5
}
