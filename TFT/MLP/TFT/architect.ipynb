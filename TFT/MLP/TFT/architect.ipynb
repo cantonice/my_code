{
 "cells": [
  {
   "cell_type": "code",
   "execution_count": 3,
   "id": "3d5eae43",
   "metadata": {},
   "outputs": [
    {
     "name": "stdout",
     "output_type": "stream",
     "text": [
      "MLPregression(\n",
      "  (input): Linear(in_features=3, out_features=15, bias=True)\n",
      "  (hidden2): Linear(in_features=15, out_features=20, bias=True)\n",
      "  (predict): Linear(in_features=20, out_features=1, bias=True)\n",
      ")\n"
     ]
    },
    {
     "data": {
      "image/png": "[encoded data removed]",
      "text/plain": [
       "<Figure size 720x432 with 1 Axes>"
      ]
     },
     "metadata": {
      "needs_background": "light"
     },
     "output_type": "display_data"
    },
    {
     "name": "stdout",
     "output_type": "stream",
     "text": [
      "tensor([4.8498e-02, 1.5705e-01, 8.0261e+00,  ..., 5.9470e-01, 4.3683e+01,\n",
      "        1.6505e+02])\n",
      "tensor([7.8261e-02, 1.4191e-02, 8.2516e+00,  ..., 3.2492e-01, 4.2960e+01,\n",
      "        1.6486e+02], dtype=torch.float64)\n"
     ]
    }
   ],
   "source": [
    "import numpy\n",
    "import numpy as np\n",
    "import pandas as pd\n",
    "from sklearn.model_selection import train_test_split\n",
    "from sklearn.preprocessing import StandardScaler\n",
    "from sklearn import preprocessing\n",
    "import torch\n",
    "import torch.nn as nn\n",
    "import torch.nn.functional as F\n",
    "from torch.optim import Adam\n",
    "import torch.utils.data as Data\n",
    "import matplotlib.pyplot as plt\n",
    "\n",
    "data=pd.read_excel('C:/Users/XHM/Desktop/data/TFT/vg_train.xlsx',engine='openpyxl')\n",
    "#data['Vg']=data['Vg'].apply(np.log) \n",
    "all_input=data[['Vg','Vd','W/L']].values\n",
    "all_output=data['Id']\n",
    "minmax=preprocessing.MinMaxScaler()\n",
    "#all_output=minmax.fit_transform(data['Idrain'].values.reshape(-1,1))\n",
    "\n",
    "(x_train,x_test,y_train,y_test)=train_test_split(all_input,all_output,train_size=0.8,\n",
    "                                                 random_state=0)\n",
    "\n",
    "#标准化处理\n",
    "\n",
    "#x_train_s=minmax.fit_transform(x_train)\n",
    "#x_test_s=minmax.fit_transform(x_test)\n",
    "\n",
    "\n",
    "\n",
    "#数据类型处理\n",
    "train_xt=torch.from_numpy(x_train.astype(np.float32))\n",
    "train_yt=torch.from_numpy(y_train.values)\n",
    "test_xt=torch.from_numpy(x_test.astype(np.float32))\n",
    "test_yt=torch.from_numpy(y_test.values)\n",
    "\n",
    "#将数据处理为数据加载器\n",
    "train_data=Data.TensorDataset(train_xt,train_yt.float())\n",
    "test_data=Data.TensorDataset(test_xt,test_yt.float())\n",
    "\n",
    "train_loader=Data.DataLoader(dataset=train_data,batch_size=64,shuffle=True,num_workers=0)\n",
    "\n",
    "\n",
    "# In[153]:\n",
    "\n",
    "\n",
    "#搭建MLP回归模型\n",
    "class MLPregression(nn.Module):\n",
    "    def __init__(self):\n",
    "        super(MLPregression,self).__init__()\n",
    "        self.input=nn.Linear(in_features=3,out_features=15,bias=True)\n",
    "        #定义第二个隐藏层\n",
    "        self.hidden2=nn.Linear(15,20)\n",
    "        #回归预测层\n",
    "        self.predict=nn.Linear(20,1)\n",
    "    def forward(self,x):\n",
    "        x=torch.sigmoid(self.input(x))\n",
    "        x=torch.sigmoid(self.hidden2(x))\n",
    "        output=self.predict(x)\n",
    "        return output[:,0]\n",
    "mlpreg=MLPregression()\n",
    "\n",
    "#mlpreg.load_state_dict(torch.load('C:/Users/XHM/LEVIST/DIST/TFT_init.pth'))\n",
    "\n",
    "print(mlpreg)\n",
    "\n",
    "#定义优化器\n",
    "optimizer=torch.optim.Adam(mlpreg.parameters(),lr=0.004)\n",
    "loss_func=nn.MSELoss()\n",
    "train_loss_all=[]\n",
    "for epoch in range(200):\n",
    "    train_loss=0\n",
    "    train_num=0\n",
    "    for step,(b_x,b_y) in enumerate(train_loader):\n",
    "        output=mlpreg(b_x)\n",
    "        loss=loss_func(output,b_y)\n",
    "        optimizer.zero_grad()\n",
    "        loss.backward()\n",
    "        optimizer.step()\n",
    "        train_loss+=loss.item()*b_x.size(0)\n",
    "        #print(output)\n",
    "        #print(test_yt)\n",
    "        train_num+=b_x.size(0)\n",
    "    train_loss_all.append(train_loss/train_num)\n",
    "\n",
    "plt.figure(figsize=(10,6))\n",
    "plt.plot(train_loss_all,\"ro-\",label=\"Train loss\")\n",
    "plt.legend()\n",
    "plt.grid()\n",
    "plt.xlabel(\"epoch\")\n",
    "plt.ylabel(\"loss\")\n",
    "plt.show()\n",
    "\n",
    "#预测\n",
    "\n",
    "pre_y=mlpreg(test_xt)\n",
    "print(pre_y.data)\n",
    "print(test_yt)\n"
   ]
  },
  {
   "cell_type": "code",
   "execution_count": 4,
   "id": "8b851f04",
   "metadata": {},
   "outputs": [],
   "source": [
    "datapre=pd.read_excel('C:/Users/XHM/Desktop/data/TFT/vg_train.xlsx',engine='openpyxl')\n",
    "x_1=datapre[['Vg','Vd','W/L']].values\n",
    "\n",
    "#标准化处理\n",
    "\n",
    "#数据类型处理\n",
    "train_1=torch.from_numpy(x_1.astype(np.float32))\n",
    "pre=mlpreg(train_1)\n",
    "\n",
    "pre=pre.detach().numpy()\n",
    "inputframe = pd.DataFrame(x_1,columns=['Vg','Vd','W/L'])    #预测的输入\n",
    "yframe=pd.DataFrame({'Idrain_pre':pre})    #预测的y\n",
    "\n",
    "inputframe.to_csv('C:/Users/XHM/Desktop/data/Vg_archi.csv',index=False,sep=',')\n",
    "yframe.to_csv(r'C:/Users/XHM/Desktop/data/Vg_archi.csv',mode='a',sep=',')\n"
   ]
  }
 ],
 "metadata": {
  "kernelspec": {
   "display_name": "Python 3 (ipykernel)",
   "language": "python",
   "name": "python3"
  },
  "language_info": {
   "codemirror_mode": {
    "name": "ipython",
    "version": 3
   },
   "file_extension": ".py",
   "mimetype": "text/x-python",
   "name": "python",
   "nbconvert_exporter": "python",
   "pygments_lexer": "ipython3",
   "version": "3.7.16"
  },
  "toc": {
   "base_numbering": 1,
   "nav_menu": {},
   "number_sections": true,
   "sideBar": true,
   "skip_h1_title": false,
   "title_cell": "Table of Contents",
   "title_sidebar": "Contents",
   "toc_cell": false,
   "toc_position": {},
   "toc_section_display": true,
   "toc_window_display": false
  }
 },
 "nbformat": 4,
 "nbformat_minor": 5
}
